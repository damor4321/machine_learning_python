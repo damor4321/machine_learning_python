{
 "cells": [
  {
   "cell_type": "markdown",
   "metadata": {},
   "source": [
    "# Latent Dirichlet Allocation for Text Data\n",
    "\n",
    "In this assignment you will\n",
    "\n",
    "* apply standard preprocessing techniques on Wikipedia text data\n",
    "* use GraphLab Create to fit a Latent Dirichlet allocation (LDA) model\n",
    "* explore and interpret the results, including topic keywords and topic assignments for documents\n",
    "\n",
    "Recall that a major feature distinguishing the LDA model from our previously explored methods is the notion of *mixed membership*. Throughout the course so far, our models have assumed that each data point belongs to a single cluster. k-means determines membership simply by shortest distance to the cluster center, and Gaussian mixture models suppose that each data point is drawn from one of their component mixture distributions. In many cases, though, it is more realistic to think of data as genuinely belonging to more than one cluster or category - for example, if we have a model for text data that includes both \"Politics\" and \"World News\" categories, then an article about a recent meeting of the United Nations should have membership in both categories rather than being forced into just one.\n",
    "\n",
    "With this in mind, we will use GraphLab Create tools to fit an LDA model to a corpus of Wikipedia articles and examine the results to analyze the impact of a mixed membership approach. In particular, we want to identify the topics discovered by the model in terms of their most important words, and we want to use the model to predict the topic membership distribution for a given document. "
   ]
  },
  {
   "cell_type": "markdown",
   "metadata": {},
   "source": [
    "**Note to Amazon EC2 users**: To conserve memory, make sure to stop all the other notebooks before running this notebook."
   ]
  },
  {
   "cell_type": "markdown",
   "metadata": {},
   "source": [
    "## Text Data Preprocessing\n",
    "We'll start by importing our familiar Wikipedia dataset.\n",
    "\n",
    "The following code block will check if you have the correct version of GraphLab Create. Any version later than 1.8.5 will do. To upgrade, read [this page](https://turi.com/download/upgrade-graphlab-create.html)."
   ]
  },
  {
   "cell_type": "code",
   "execution_count": 1,
   "metadata": {
    "collapsed": false
   },
   "outputs": [
    {
     "name": "stdout",
     "output_type": "stream",
     "text": [
      "This non-commercial license of GraphLab Create for academic use is assigned to damor4321@gmail.com and will expire on January 29, 2018.\n"
     ]
    },
    {
     "name": "stderr",
     "output_type": "stream",
     "text": [
      "[INFO] graphlab.cython.cy_server: GraphLab Create v2.1 started. Logging: /tmp/graphlab_server_1505901721.log\n"
     ]
    }
   ],
   "source": [
    "import graphlab as gl\n",
    "import numpy as np\n",
    "import matplotlib.pyplot as plt \n",
    "\n",
    "%matplotlib inline\n",
    "\n",
    "'''Check GraphLab Create version'''\n",
    "from distutils.version import StrictVersion\n",
    "assert (StrictVersion(gl.version) >= StrictVersion('1.8.5')), 'GraphLab Create must be version 1.8.5 or later.'"
   ]
  },
  {
   "cell_type": "code",
   "execution_count": 2,
   "metadata": {
    "collapsed": false
   },
   "outputs": [
    {
     "data": {
      "text/html": [
       "<div style=\"max-height:1000px;max-width:1500px;overflow:auto;\"><table frame=\"box\" rules=\"cols\">\n",
       "    <tr>\n",
       "        <th style=\"padding-left: 1em; padding-right: 1em; text-align: center\">URI</th>\n",
       "        <th style=\"padding-left: 1em; padding-right: 1em; text-align: center\">name</th>\n",
       "        <th style=\"padding-left: 1em; padding-right: 1em; text-align: center\">text</th>\n",
       "    </tr>\n",
       "    <tr>\n",
       "        <td style=\"padding-left: 1em; padding-right: 1em; text-align: center; vertical-align: top\">&lt;http://dbpedia.org/resou<br>rce/Digby_Morrell&gt; ...</td>\n",
       "        <td style=\"padding-left: 1em; padding-right: 1em; text-align: center; vertical-align: top\">Digby Morrell</td>\n",
       "        <td style=\"padding-left: 1em; padding-right: 1em; text-align: center; vertical-align: top\">digby morrell born 10<br>october 1979 is a former ...</td>\n",
       "    </tr>\n",
       "    <tr>\n",
       "        <td style=\"padding-left: 1em; padding-right: 1em; text-align: center; vertical-align: top\">&lt;http://dbpedia.org/resou<br>rce/Alfred_J._Lewy&gt; ...</td>\n",
       "        <td style=\"padding-left: 1em; padding-right: 1em; text-align: center; vertical-align: top\">Alfred J. Lewy</td>\n",
       "        <td style=\"padding-left: 1em; padding-right: 1em; text-align: center; vertical-align: top\">alfred j lewy aka sandy<br>lewy graduated from ...</td>\n",
       "    </tr>\n",
       "    <tr>\n",
       "        <td style=\"padding-left: 1em; padding-right: 1em; text-align: center; vertical-align: top\">&lt;http://dbpedia.org/resou<br>rce/Harpdog_Brown&gt; ...</td>\n",
       "        <td style=\"padding-left: 1em; padding-right: 1em; text-align: center; vertical-align: top\">Harpdog Brown</td>\n",
       "        <td style=\"padding-left: 1em; padding-right: 1em; text-align: center; vertical-align: top\">harpdog brown is a singer<br>and harmonica player who ...</td>\n",
       "    </tr>\n",
       "    <tr>\n",
       "        <td style=\"padding-left: 1em; padding-right: 1em; text-align: center; vertical-align: top\">&lt;http://dbpedia.org/resou<br>rce/Franz_Rottensteiner&gt; ...</td>\n",
       "        <td style=\"padding-left: 1em; padding-right: 1em; text-align: center; vertical-align: top\">Franz Rottensteiner</td>\n",
       "        <td style=\"padding-left: 1em; padding-right: 1em; text-align: center; vertical-align: top\">franz rottensteiner born<br>in waidmannsfeld lower ...</td>\n",
       "    </tr>\n",
       "    <tr>\n",
       "        <td style=\"padding-left: 1em; padding-right: 1em; text-align: center; vertical-align: top\">&lt;http://dbpedia.org/resou<br>rce/G-Enka&gt; ...</td>\n",
       "        <td style=\"padding-left: 1em; padding-right: 1em; text-align: center; vertical-align: top\">G-Enka</td>\n",
       "        <td style=\"padding-left: 1em; padding-right: 1em; text-align: center; vertical-align: top\">henry krvits born 30<br>december 1974 in tallinn ...</td>\n",
       "    </tr>\n",
       "    <tr>\n",
       "        <td style=\"padding-left: 1em; padding-right: 1em; text-align: center; vertical-align: top\">&lt;http://dbpedia.org/resou<br>rce/Sam_Henderson&gt; ...</td>\n",
       "        <td style=\"padding-left: 1em; padding-right: 1em; text-align: center; vertical-align: top\">Sam Henderson</td>\n",
       "        <td style=\"padding-left: 1em; padding-right: 1em; text-align: center; vertical-align: top\">sam henderson born<br>october 18 1969 is an ...</td>\n",
       "    </tr>\n",
       "    <tr>\n",
       "        <td style=\"padding-left: 1em; padding-right: 1em; text-align: center; vertical-align: top\">&lt;http://dbpedia.org/resou<br>rce/Aaron_LaCrate&gt; ...</td>\n",
       "        <td style=\"padding-left: 1em; padding-right: 1em; text-align: center; vertical-align: top\">Aaron LaCrate</td>\n",
       "        <td style=\"padding-left: 1em; padding-right: 1em; text-align: center; vertical-align: top\">aaron lacrate is an<br>american music producer ...</td>\n",
       "    </tr>\n",
       "    <tr>\n",
       "        <td style=\"padding-left: 1em; padding-right: 1em; text-align: center; vertical-align: top\">&lt;http://dbpedia.org/resou<br>rce/Trevor_Ferguson&gt; ...</td>\n",
       "        <td style=\"padding-left: 1em; padding-right: 1em; text-align: center; vertical-align: top\">Trevor Ferguson</td>\n",
       "        <td style=\"padding-left: 1em; padding-right: 1em; text-align: center; vertical-align: top\">trevor ferguson aka john<br>farrow born 11 november ...</td>\n",
       "    </tr>\n",
       "    <tr>\n",
       "        <td style=\"padding-left: 1em; padding-right: 1em; text-align: center; vertical-align: top\">&lt;http://dbpedia.org/resou<br>rce/Grant_Nelson&gt; ...</td>\n",
       "        <td style=\"padding-left: 1em; padding-right: 1em; text-align: center; vertical-align: top\">Grant Nelson</td>\n",
       "        <td style=\"padding-left: 1em; padding-right: 1em; text-align: center; vertical-align: top\">grant nelson born 27<br>april 1971 in london  ...</td>\n",
       "    </tr>\n",
       "    <tr>\n",
       "        <td style=\"padding-left: 1em; padding-right: 1em; text-align: center; vertical-align: top\">&lt;http://dbpedia.org/resou<br>rce/Cathy_Caruth&gt; ...</td>\n",
       "        <td style=\"padding-left: 1em; padding-right: 1em; text-align: center; vertical-align: top\">Cathy Caruth</td>\n",
       "        <td style=\"padding-left: 1em; padding-right: 1em; text-align: center; vertical-align: top\">cathy caruth born 1955 is<br>frank h t rhodes ...</td>\n",
       "    </tr>\n",
       "</table>\n",
       "[59071 rows x 3 columns]<br/>Note: Only the head of the SFrame is printed.<br/>You can use print_rows(num_rows=m, num_columns=n) to print more rows and columns.\n",
       "</div>"
      ],
      "text/plain": [
       "Columns:\n",
       "\tURI\tstr\n",
       "\tname\tstr\n",
       "\ttext\tstr\n",
       "\n",
       "Rows: 59071\n",
       "\n",
       "Data:\n",
       "+-------------------------------+---------------------+\n",
       "|              URI              |         name        |\n",
       "+-------------------------------+---------------------+\n",
       "| <http://dbpedia.org/resour... |    Digby Morrell    |\n",
       "| <http://dbpedia.org/resour... |    Alfred J. Lewy   |\n",
       "| <http://dbpedia.org/resour... |    Harpdog Brown    |\n",
       "| <http://dbpedia.org/resour... | Franz Rottensteiner |\n",
       "| <http://dbpedia.org/resour... |        G-Enka       |\n",
       "| <http://dbpedia.org/resour... |    Sam Henderson    |\n",
       "| <http://dbpedia.org/resour... |    Aaron LaCrate    |\n",
       "| <http://dbpedia.org/resour... |   Trevor Ferguson   |\n",
       "| <http://dbpedia.org/resour... |     Grant Nelson    |\n",
       "| <http://dbpedia.org/resour... |     Cathy Caruth    |\n",
       "+-------------------------------+---------------------+\n",
       "+-------------------------------+\n",
       "|              text             |\n",
       "+-------------------------------+\n",
       "| digby morrell born 10 octo... |\n",
       "| alfred j lewy aka sandy le... |\n",
       "| harpdog brown is a singer ... |\n",
       "| franz rottensteiner born i... |\n",
       "| henry krvits born 30 decem... |\n",
       "| sam henderson born october... |\n",
       "| aaron lacrate is an americ... |\n",
       "| trevor ferguson aka john f... |\n",
       "| grant nelson born 27 april... |\n",
       "| cathy caruth born 1955 is ... |\n",
       "+-------------------------------+\n",
       "[59071 rows x 3 columns]\n",
       "Note: Only the head of the SFrame is printed.\n",
       "You can use print_rows(num_rows=m, num_columns=n) to print more rows and columns."
      ]
     },
     "execution_count": 2,
     "metadata": {},
     "output_type": "execute_result"
    }
   ],
   "source": [
    "# import wiki data\n",
    "wiki = gl.SFrame('datasets/people_wiki.gl/')\n",
    "wiki"
   ]
  },
  {
   "cell_type": "markdown",
   "metadata": {},
   "source": [
    "In the original data, each Wikipedia article is represented by a URI, a name, and a string containing the entire text of the article. Recall from the video lectures that LDA requires documents to be represented as a _bag of words_, which ignores word ordering in the document but retains information on how many times each word appears. As we have seen in our previous encounters with text data, words such as 'the', 'a', or 'and' are by far the most frequent, but they appear so commonly in the English language that they tell us almost nothing about how similar or dissimilar two documents might be. \n",
    "\n",
    "Therefore, before we train our LDA model, we will preprocess the Wikipedia data in two steps: first, we will create a bag of words representation for each article, and then we will remove the common words that don't help us to distinguish between documents. For both of these tasks we can use pre-implemented tools from GraphLab Create:"
   ]
  },
  {
   "cell_type": "code",
   "execution_count": 3,
   "metadata": {
    "collapsed": true
   },
   "outputs": [],
   "source": [
    "wiki_docs = gl.text_analytics.count_words(wiki['text'])\n",
    "wiki_docs = wiki_docs.dict_trim_by_keys(gl.text_analytics.stopwords(), exclude=True)"
   ]
  },
  {
   "cell_type": "code",
   "execution_count": 4,
   "metadata": {
    "collapsed": false
   },
   "outputs": [
    {
     "name": "stdout",
     "output_type": "stream",
     "text": [
      "{'text': 'alfred j lewy aka sandy lewy graduated from university of chicago in 1973 after studying psychiatry pharmacology and ophthalmology he is a full professor and vicechair of the department of psychiatry at ohsu oregon health science university and holds an md and phd prior to moving to oregon in 1981 lewy was at the national institute of mental health nimh in bethesda maryland working with senior colleague thomas wehr in oregon he has worked closely with robert l sack as of december 2005 he had 94 publications available on pubmed he describes his research as follows my laboratory studies chronobiologic sleep and mood disorders these disorders include winter depression jet lag maladaptation to shift work and certain types of sleep disturbances relying on a very precise assay for plasma melatonin a hormone that has a clearly defined 24hour pattern of secretion biological rhythm disorders can be assessed and their treatment can be monitored current research is focused on developing bright light exposure and melatonin administration as treatment modalities for these disorders treatment must be precisely scheduled morning light exposure and evening melatonin administration cause circadian phaseadvance shifts evening light exposure and morning melatonin administration cause circadian phasedelay shifts totally blind individuals have 25hour circadian rhythms drifting an hour later each day unless they take a melatonin capsule at a certain time every day', 'URI': '<http://dbpedia.org/resource/Alfred_J._Lewy>', 'name': 'Alfred J. Lewy'}\n",
      "\n",
      "{'precise': 1, 'thomas': 1, 'disturbances': 1, 'wehr': 1, 'bright': 1, 'sleep': 2, 'nimh': 1, 'monitored': 1, 'disorders': 4, 'chronobiologic': 1, 'treatment': 3, 'rhythm': 1, 'maryland': 1, 'include': 1, 'plasma': 1, 'colleague': 1, 'hormone': 1, 'assay': 1, 'pharmacology': 1, 'capsule': 1, 'closely': 1, 'day': 2, 'university': 2, 'morning': 2, 'individuals': 1, 'biological': 1, 'mental': 1, 'national': 1, 'circadian': 3, 'laboratory': 1, '24hour': 1, 'depression': 1, 'mood': 1, '25hour': 1, 'pattern': 1, 'robert': 1, 'research': 2, 'current': 1, 'health': 2, 'full': 1, 'drifting': 1, 'focused': 1, 'graduated': 1, 'relying': 1, 'rhythms': 1, 'jet': 1, 'institute': 1, 'shift': 1, 'prior': 1, 'aka': 1, 'studies': 1, 'blind': 1, 'lewy': 3, 'modalities': 1, 'phasedelay': 1, 'sack': 1, 'precisely': 1, 'working': 1, '1981': 1, 'describes': 1, 'alfred': 1, 'secretion': 1, 'exposure': 3, 'phaseadvance': 1, 'oregon': 3, 'worked': 1, '94': 1, 'md': 1, 'hour': 1, 'developing': 1, 'science': 1, 'work': 1, 'evening': 2, 'publications': 1, 'scheduled': 1, 'defined': 1, 'december': 1, 'pubmed': 1, 'melatonin': 5, 'vicechair': 1, 'winter': 1, 'studying': 1, 'holds': 1, 'administration': 3, 'shifts': 2, 'sandy': 1, 'bethesda': 1, 'department': 1, 'time': 1, 'maladaptation': 1, 'lag': 1, 'phd': 1, 'moving': 1, 'assessed': 1, 'totally': 1, 'types': 1, 'ohsu': 1, 'light': 3, 'professor': 1, 'chicago': 1, '1973': 1, 'ophthalmology': 1, '2005': 1, 'psychiatry': 2, 'senior': 1}\n"
     ]
    }
   ],
   "source": [
    "#DAF understanding\n",
    "print wiki[1]\n",
    "print \"\\n\",wiki_docs[1]\n",
    "#gl.text_analytics.stopwords()"
   ]
  },
  {
   "cell_type": "markdown",
   "metadata": {},
   "source": [
    "## Model fitting and interpretation\n",
    "In the video lectures we saw that Gibbs sampling can be used to perform inference in the LDA model. In this assignment we will use a GraphLab Create method to learn the topic model for our Wikipedia data, and our main emphasis will be on interpreting the results. We'll begin by creating the topic model using create() from GraphLab Create's topic_model module.\n",
    "\n",
    "Note: This may take several minutes to run."
   ]
  },
  {
   "cell_type": "code",
   "execution_count": 5,
   "metadata": {
    "collapsed": false
   },
   "outputs": [
    {
     "data": {
      "text/html": [
       "<pre>Learning a topic model</pre>"
      ],
      "text/plain": [
       "Learning a topic model"
      ]
     },
     "metadata": {},
     "output_type": "display_data"
    },
    {
     "data": {
      "text/html": [
       "<pre>       Number of documents     59071</pre>"
      ],
      "text/plain": [
       "       Number of documents     59071"
      ]
     },
     "metadata": {},
     "output_type": "display_data"
    },
    {
     "data": {
      "text/html": [
       "<pre>           Vocabulary size    547462</pre>"
      ],
      "text/plain": [
       "           Vocabulary size    547462"
      ]
     },
     "metadata": {},
     "output_type": "display_data"
    },
    {
     "data": {
      "text/html": [
       "<pre>   Running collapsed Gibbs sampling</pre>"
      ],
      "text/plain": [
       "   Running collapsed Gibbs sampling"
      ]
     },
     "metadata": {},
     "output_type": "display_data"
    },
    {
     "data": {
      "text/html": [
       "<pre>+-----------+---------------+----------------+-----------------+</pre>"
      ],
      "text/plain": [
       "+-----------+---------------+----------------+-----------------+"
      ]
     },
     "metadata": {},
     "output_type": "display_data"
    },
    {
     "data": {
      "text/html": [
       "<pre>| Iteration | Elapsed Time  | Tokens/Second  | Est. Perplexity |</pre>"
      ],
      "text/plain": [
       "| Iteration | Elapsed Time  | Tokens/Second  | Est. Perplexity |"
      ]
     },
     "metadata": {},
     "output_type": "display_data"
    },
    {
     "data": {
      "text/html": [
       "<pre>+-----------+---------------+----------------+-----------------+</pre>"
      ],
      "text/plain": [
       "+-----------+---------------+----------------+-----------------+"
      ]
     },
     "metadata": {},
     "output_type": "display_data"
    },
    {
     "data": {
      "text/html": [
       "<pre>| 10        | 18.37s        | 4.7591e+06     | 0               |</pre>"
      ],
      "text/plain": [
       "| 10        | 18.37s        | 4.7591e+06     | 0               |"
      ]
     },
     "metadata": {},
     "output_type": "display_data"
    },
    {
     "data": {
      "text/html": [
       "<pre>| 11        | 20.03s        | 4.79083e+06    | 0               |</pre>"
      ],
      "text/plain": [
       "| 11        | 20.03s        | 4.79083e+06    | 0               |"
      ]
     },
     "metadata": {},
     "output_type": "display_data"
    },
    {
     "data": {
      "text/html": [
       "<pre>+-----------+---------------+----------------+-----------------+</pre>"
      ],
      "text/plain": [
       "+-----------+---------------+----------------+-----------------+"
      ]
     },
     "metadata": {},
     "output_type": "display_data"
    }
   ],
   "source": [
    "topic_model = gl.topic_model.create(wiki_docs, num_topics=10, num_iterations=200)\n",
    "#topic_model = gl.topic_model.create(wiki_docs, num_topics=10, num_iterations=11)"
   ]
  },
  {
   "cell_type": "markdown",
   "metadata": {},
   "source": [
    "GraphLab provides a useful summary of the model we have fitted, including the hyperparameter settings for alpha, gamma (note that GraphLab Create calls this parameter beta), and K (the number of topics); the structure of the output data; and some useful methods for understanding the results."
   ]
  },
  {
   "cell_type": "code",
   "execution_count": 6,
   "metadata": {
    "collapsed": false
   },
   "outputs": [
    {
     "data": {
      "text/plain": [
       "Class                          : TopicModel\n",
       "\n",
       "Schema\n",
       "------\n",
       "Vocabulary Size                : 547462\n",
       "\n",
       "Settings\n",
       "--------\n",
       "Number of Topics               : 10\n",
       "alpha                          : 5.0\n",
       "beta                           : 0.1\n",
       "Iterations                     : 11\n",
       "Training time                  : 21.0351\n",
       "Verbose                        : False\n",
       "\n",
       "Accessible fields             : \n",
       "m['topics']                   : An SFrame containing the topics.\n",
       "m['vocabulary']               : An SArray containing the words in the vocabulary.\n",
       "Useful methods                : \n",
       "m.get_topics()                : Get the most probable words per topic.\n",
       "m.predict(new_docs)           : Make predictions for new documents."
      ]
     },
     "execution_count": 6,
     "metadata": {},
     "output_type": "execute_result"
    }
   ],
   "source": [
    "topic_model"
   ]
  },
  {
   "cell_type": "code",
   "execution_count": 22,
   "metadata": {
    "collapsed": false
   },
   "outputs": [
    {
     "name": "stdout",
     "output_type": "stream",
     "text": [
      "+-------------------------------+-------------+\n",
      "|      topic_probabilities      |  vocabulary |\n",
      "+-------------------------------+-------------+\n",
      "| [1.01449901705e-07, 9.2803... |  melbourne  |\n",
      "| [0.00256475496501, 0.00119... |   college   |\n",
      "| [3.25654184473e-05, 9.3731... |    parade   |\n",
      "| [1.01449901705e-07, 9.2803... |  education  |\n",
      "| [1.01449901705e-07, 9.2803... |   teaches   |\n",
      "| [1.01449901705e-07, 1.0208... |    edflhe   |\n",
      "| [1.01449901705e-07, 9.2803... |    coburg   |\n",
      "| [1.01449901705e-07, 9.2803... |   coached   |\n",
      "| [1.01449901705e-07, 9.2803... | premiership |\n",
      "| [0.00179170671401, 2.87689... |   division  |\n",
      "+-------------------------------+-------------+\n",
      "[547462 rows x 2 columns]\n",
      "Note: Only the head of the SFrame is printed.\n",
      "You can use print_rows(num_rows=m, num_columns=n) to print more rows and columns.\n",
      "\n",
      "{'vocabulary': 'melbourne', 'topic_probabilities': array('d', [1.0144990170511328e-07, 9.280301483608217e-08, 8.537076351895967e-08, 7.0573201793811e-05, 9.797362051401268e-07, 6.594743322116013e-05, 1.0287188373025301e-06, 8.01602435338359e-08, 3.937165905065366e-06, 0.0019031953945378302])}\n",
      "\n",
      "['melbourne', 'college', 'parade', 'education', 'teaches', 'edflhe', 'coburg', 'coached', 'premiership', 'division', '2011', 'strathmore', '2009', 'retiring', 'hawks', 'hill', 'shifted', '2008', '2007', 'coach', 'assistant', 'acted', 'northern', 'victorian', '2005', 'senior', 'delisted', 'blues', 'games', 'digby', 'mckernan', 'corey', 'exchange', 'teague', 'traded', 'bullants', 'west', 'game', 'play', 'rookie', 'drawn', '2002', 'vflaffiliate', 'afl', 'club', 'season', 'time', 'goals', 'forward', 'age', 'selection', 'round', 'end', 'physical', '2013', '21', '19982000', 'western', 'goalkicker', '32', '2001', 'draft', 'leading', 'carltons', 'carlton', 'falcons', 'career', 'kicked', 'playing', '44game', 'perth', 'recruited', 'early', 'essendon', 'australian', 'clubs', 'district', '2006', 'australia', 'october', '2000', 'league', 'born', 'david', 'premier', 'vfl', 'spanned', '2003', 'rules', '2014', 'footballer', 'continued', 'sydney', 'box', 'morrell', 'played', '1979', '10', 'losing', 'football', ... ] \n",
      "\n",
      "+-------+---------------+------------------+\n",
      "| topic |      word     |      score       |\n",
      "+-------+---------------+------------------+\n",
      "|   0   |     played    | 0.0192197853279  |\n",
      "|   0   |      city     | 0.0163254196323  |\n",
      "|   0   |      born     | 0.0144445384547  |\n",
      "|   0   |      2011     | 0.0115826367276  |\n",
      "|   0   |    january    | 0.00895609877243 |\n",
      "|   1   |     album     | 0.0129915868499  |\n",
      "|   1   |   university  |  0.012285355907  |\n",
      "|   1   |       de      |  0.011121606101  |\n",
      "|   1   |     world     | 0.00979173889837 |\n",
      "|   1   |    american   | 0.0096349018033  |\n",
      "|   2   |      film     |  0.019359613414  |\n",
      "|   2   |    received   | 0.0113432987195  |\n",
      "|   2   | international | 0.0102650659763  |\n",
      "|   2   |    director   | 0.00969991152179 |\n",
      "|   2   |      book     | 0.00931574308595 |\n",
      "|   3   |   university  | 0.0352073762697  |\n",
      "|   3   |     member    | 0.0200008939808  |\n",
      "|   3   |     state     | 0.0118333075394  |\n",
      "|   3   |     party     | 0.0101414732353  |\n",
      "|   3   |     public    | 0.0086579139876  |\n",
      "|   4   |     award     | 0.0112278659778  |\n",
      "|   4   |      work     | 0.00981081115749 |\n",
      "|   4   |     worked    | 0.00775781847308 |\n",
      "|   4   |     years     | 0.00769725296222 |\n",
      "|   4   |     states    | 0.00766697020679 |\n",
      "|   5   |      won      | 0.0215179977755  |\n",
      "|   5   |     season    | 0.0195591543137  |\n",
      "|   5   |      team     | 0.0166685029898  |\n",
      "|   5   |      time     | 0.0146001921287  |\n",
      "|   5   |      year     | 0.0145165341162  |\n",
      "|   6   |     league    | 0.0192315245838  |\n",
      "|   6   |      born     | 0.0144685563671  |\n",
      "|   6   |     world     | 0.0108063173063  |\n",
      "|   6   |  professional | 0.0103798665883  |\n",
      "|   6   |      band     | 0.00909583843953 |\n",
      "|   7   |   including   | 0.0150108873644  |\n",
      "|   7   |     music     | 0.0133315302624  |\n",
      "|   7   |     series    | 0.0102140983913  |\n",
      "|   7   |      york     | 0.00981089236635 |\n",
      "|   7   |      work     | 0.00974916897883 |\n",
      "|   8   |     school    | 0.0159148888442  |\n",
      "|   8   |    college    | 0.0134498388739  |\n",
      "|   8   |   professor   | 0.0128054880636  |\n",
      "|   8   |      art      | 0.0118740122275  |\n",
      "|   8   |      arts     | 0.00927740329888 |\n",
      "|   9   |   president   | 0.0161926700683  |\n",
      "|   9   |     career    | 0.0139116224815  |\n",
      "|   9   |    national   | 0.0115236806144  |\n",
      "|   9   |      2004     | 0.0103421170527  |\n",
      "|   9   |      2005     | 0.00991263110537 |\n",
      "+-------+---------------+------------------+\n",
      "[50 rows x 3 columns]\n",
      "\n"
     ]
    }
   ],
   "source": [
    "#DAF understanding. Despues de corrido el fit de topic_model con 11 iteraciones para no quemar el computer.\n",
    "\n",
    "print topic_model\n",
    "\n",
    "print \"\\n\", topic_model['topics'] #las palabras de vocab y las prob asociadas para cada uno de los 10 topics.\n",
    "# En LDA un topic es una distribucion del vocab corpus-wide simplemente. Aqui tenemos 10 distribs distintas del vocabulary\n",
    "\n",
    "print \"\\n\", topic_model['topics'][1] #La palabra 'college' en top5 del topic3: dado topic3, su P. de aparecer es la mayor\n",
    "\n",
    "print \"\\n\", topic_model['vocabulary'] , \"\\n\" #sin más sarray de todas las palabras del vocabulary\n",
    "\n",
    "topic_model.get_topics().print_rows(50) #By default Top5 de \"las tablas\" de \"(corpus-wide) topic vocabulary distributions\"\n",
    "#... pero se puede usar así: topic_model.get_topics(topic_ids=[i], num_words=100)['score']"
   ]
  },
  {
   "cell_type": "markdown",
   "metadata": {},
   "source": [
    "It is certainly useful to have pre-implemented methods available for LDA, but as with our previous methods for clustering and retrieval, implementing and fitting the model gets us only halfway towards our objective. We now need to analyze the fitted model to understand what it has done with our data and whether it will be useful as a document classification system. This can be a challenging task in itself, particularly when the model that we use is complex. We will begin by outlining a sequence of objectives that will help us understand our model in detail. In particular, we will\n",
    "\n",
    "* get the top words in each topic and use these to identify topic themes\n",
    "* predict topic distributions for some example documents\n",
    "* compare the quality of LDA \"nearest neighbors\" to the NN output from the first assignment\n",
    "* understand the role of model hyperparameters alpha and gamma"
   ]
  },
  {
   "cell_type": "markdown",
   "metadata": {},
   "source": [
    "## Load a fitted topic model\n",
    "The method used to fit the LDA model is a _randomized algorithm_, which means that it involves steps that are random; in this case, the randomness comes from Gibbs sampling, as discussed in the LDA video lectures. Because of these random steps, the algorithm will be expected to yield slighty different output for different runs on the same data - note that this is different from previously seen algorithms such as k-means or EM, which will always produce the same results given the same input and initialization.\n",
    "\n",
    "It is important to understand that variation in the results is a fundamental feature of randomized methods. However, in the context of this assignment this variation makes it difficult to evaluate the correctness of your analysis, so we will load and analyze a pre-trained model. \n",
    "\n",
    "We recommend that you spend some time exploring your own fitted topic model and compare our analysis of the pre-trained model to the same analysis applied to the model you trained above."
   ]
  },
  {
   "cell_type": "code",
   "execution_count": 23,
   "metadata": {
    "collapsed": false,
    "scrolled": true
   },
   "outputs": [],
   "source": [
    "topic_model = gl.load_model('lda_models/lda_assignment_topic_model')"
   ]
  },
  {
   "cell_type": "code",
   "execution_count": 28,
   "metadata": {
    "collapsed": false
   },
   "outputs": [
    {
     "name": "stdout",
     "output_type": "stream",
     "text": [
      "Class                          : TopicModel\n",
      "\n",
      "Schema\n",
      "------\n",
      "Vocabulary Size                : 547462\n",
      "\n",
      "Settings\n",
      "--------\n",
      "Number of Topics               : 10\n",
      "alpha                          : 5.0\n",
      "beta                           : 0.1\n",
      "Iterations                     : 200\n",
      "Training time                  : 363.9111\n",
      "Verbose                        : False\n",
      "\n",
      "Accessible fields             : \n",
      "m['topics']                   : An SFrame containing the topics.\n",
      "m['vocabulary']               : An SArray containing the words in the vocabulary.\n",
      "Useful methods                : \n",
      "m.get_topics()                : Get the most probable words per topic.\n",
      "m.predict(new_docs)           : Make predictions for new documents.\n",
      "\n",
      "+-------------------------------+-------------+\n",
      "|      topic_probabilities      |  vocabulary |\n",
      "+-------------------------------+-------------+\n",
      "| [8.76815182796e-08, 1.7784... |  melbourne  |\n",
      "| [0.00340476103631, 0.00095... |   college   |\n",
      "| [8.76815182796e-08, 2.8879... |    parade   |\n",
      "| [0.0040018721758, 8.468976... |  education  |\n",
      "| [0.000513024563454, 8.4689... |   teaches   |\n",
      "| [8.76815182796e-08, 9.3158... |    edflhe   |\n",
      "| [8.76815182796e-08, 1.6175... |    coburg   |\n",
      "| [8.76815182796e-08, 0.0010... |   coached   |\n",
      "| [8.76815182796e-08, 0.0006... | premiership |\n",
      "| [0.000192110206551, 0.0027... |   division  |\n",
      "+-------------------------------+-------------+\n",
      "[547462 rows x 2 columns]\n",
      "Note: Only the head of the SFrame is printed.\n",
      "You can use print_rows(num_rows=m, num_columns=n) to print more rows and columns.\n",
      "\n",
      "{'vocabulary': 'college', 'topic_probabilities': array('d', [0.0034047610363137815, 0.0009545383637099122, 7.120614378062247e-08, 0.011868618871121542, 7.912267511932995e-08, 8.834451392088384e-08, 9.849798453400219e-08, 1.0167931523455393e-07, 0.0014153060769987909, 1.04737025229335e-07])}\n",
      "\n",
      "['melbourne', 'college', 'parade', 'education', 'teaches', 'edflhe', 'coburg', 'coached', 'premiership', 'division', '2011', 'strathmore', '2009', 'retiring', 'hawks', 'hill', 'shifted', '2008', '2007', 'coach', 'assistant', 'acted', 'northern', 'victorian', '2005', 'senior', 'delisted', 'blues', 'games', 'digby', 'mckernan', 'corey', 'exchange', 'teague', 'traded', 'bullants', 'west', 'game', 'play', 'rookie', 'drawn', '2002', 'vflaffiliate', 'afl', 'club', 'season', 'time', 'goals', 'forward', 'age', 'selection', 'round', 'end', 'physical', '2013', '21', '19982000', 'western', 'goalkicker', '32', '2001', 'draft', 'leading', 'carltons', 'carlton', 'falcons', 'career', 'kicked', 'playing', '44game', 'perth', 'recruited', 'early', 'essendon', 'australian', 'clubs', 'district', '2006', 'australia', 'october', '2000', 'league', 'born', 'david', 'premier', 'vfl', 'spanned', '2003', 'rules', '2014', 'footballer', 'continued', 'sydney', 'box', 'morrell', 'played', '1979', '10', 'losing', 'football', ... ] \n",
      "\n",
      "+-------+---------------+------------------+\n",
      "| topic |      word     |      score       |\n",
      "+-------+---------------+------------------+\n",
      "|   0   |   university  | 0.0337723780773  |\n",
      "|   0   |    research   | 0.0120334992502  |\n",
      "|   0   |   professor   | 0.0118011432268  |\n",
      "|   0   | international | 0.00881383389898 |\n",
      "|   0   |   institute   | 0.00851045584573 |\n",
      "|   1   |     played    | 0.0189511138484  |\n",
      "|   1   |     season    | 0.0180754216578  |\n",
      "|   1   |     league    |  0.017415688373  |\n",
      "|   1   |      team     | 0.0125104570691  |\n",
      "|   1   |     career    | 0.0108564659198  |\n",
      "|   2   |      film     | 0.0161482004927  |\n",
      "|   2   |     music     | 0.0114820618908  |\n",
      "|   2   |     album     | 0.00996964339687 |\n",
      "|   2   |    released   | 0.00890297536304 |\n",
      "|   2   |      band     | 0.00790751347298 |\n",
      "|   3   |   university  | 0.0194153737573  |\n",
      "|   3   |     school    | 0.0185257867872  |\n",
      "|   3   |     served    | 0.0122811809442  |\n",
      "|   3   |    college    | 0.0118686188711  |\n",
      "|   3   |     state     | 0.0109016765123  |\n",
      "|   4   |     member    |  0.011017911633  |\n",
      "|   4   |     party     | 0.0100170097928  |\n",
      "|   4   |    election   | 0.00766311020798 |\n",
      "|   4   |    minister   | 0.00753651392779 |\n",
      "|   4   |   government  | 0.0074083351941  |\n",
      "|   5   |      work     | 0.0125794636817  |\n",
      "|   5   |      art      |  0.012232269742  |\n",
      "|   5   |      book     | 0.0113399901514  |\n",
      "|   5   |   published   | 0.00921707148188 |\n",
      "|   5   |      york     | 0.00898119162971 |\n",
      "|   6   |    company    | 0.0077863641754  |\n",
      "|   6   |    business   | 0.00756178877066 |\n",
      "|   6   |     years     | 0.00709687828366 |\n",
      "|   6   |     group     | 0.00500872101154 |\n",
      "|   6   |      time     | 0.00490726808747 |\n",
      "|   7   |     world     | 0.0212653136675  |\n",
      "|   7   |      won      | 0.0191686861873  |\n",
      "|   7   |      born     | 0.00797684395947 |\n",
      "|   7   |      time     | 0.00742269169144 |\n",
      "|   7   |      year     | 0.00736676806806 |\n",
      "|   8   |      born     | 0.0142147385999  |\n",
      "|   8   |    british    | 0.0102082452893  |\n",
      "|   8   |     london    | 0.00832917529659 |\n",
      "|   8   |   australian  | 0.00821526116814 |\n",
      "|   8   |     south     | 0.00766313683385 |\n",
      "|   9   |     music     | 0.0144161088896  |\n",
      "|   9   |       de      | 0.0127172743404  |\n",
      "|   9   |      born     | 0.00923057877049 |\n",
      "|   9   | international | 0.00819054010996 |\n",
      "|   9   |       la      | 0.00607171008957 |\n",
      "+-------+---------------+------------------+\n",
      "[50 rows x 3 columns]\n",
      "\n"
     ]
    }
   ],
   "source": [
    "#DAF understanding. Modelo pre-trained con 200 iteraciones\n",
    "\n",
    "print topic_model\n",
    "\n",
    "print \"\\n\", topic_model['topics'] #las palabras de vocab y las prob asociadas para cada uno de los 10 topics.\n",
    "# En LDA un topic es una distribucion del vocab corpus-wide simplemente. Aqui tenemos 10 distribs distintas del vocabulary\n",
    "\n",
    "print \"\\n\", topic_model['topics'][1] #La palabra 'college' en top5 del topic3: dado topic3, su P. de aparecer es la mayor\n",
    "\n",
    "print \"\\n\", topic_model['vocabulary'] , \"\\n\" #sin más sarray de todas las palabras del vocabulary\n",
    "\n",
    "topic_model.get_topics().print_rows(50) #By default Top5 de \"las tablas\" de \"(corpus-wide) topic vocabulary distributions\"\n",
    "#... pero se puede usar así: topic_model.get_topics(topic_ids=[i], num_words=100)['score']"
   ]
  },
  {
   "cell_type": "markdown",
   "metadata": {},
   "source": [
    "# Identifying topic themes by top words\n",
    "\n",
    "We'll start by trying to identify the topics learned by our model with some major themes. As a preliminary check on the results of applying this method, it is reasonable to hope that the model has been able to learn topics that correspond to recognizable categories. In order to do this, we must first recall what exactly a 'topic' is in the context of LDA. \n",
    "\n",
    "In the video lectures on LDA we learned that a topic is a probability distribution over words in the vocabulary; that is, each topic assigns a particular probability to every one of the unique words that appears in our data. Different topics will assign different probabilities to the same word: for instance, a topic that ends up describing science and technology articles might place more probability on the word 'university' than a topic that describes sports or politics. Looking at the highest probability words in each topic will thus give us a sense of its major themes. Ideally we would find that each topic is identifiable with some clear theme _and_ that all the topics are relatively distinct.\n",
    "\n",
    "We can use the GraphLab Create function get_topics() to view the top words (along with their associated probabilities) from each topic.\n",
    "\n",
    "__Quiz Question:__ Identify the top 3 most probable words for the first topic. "
   ]
  },
  {
   "cell_type": "markdown",
   "metadata": {},
   "source": [
    "__ Quiz Question:__ What is the sum of the probabilities assigned to the top 50 words in the 3rd topic?"
   ]
  },
  {
   "cell_type": "code",
   "execution_count": 159,
   "metadata": {
    "collapsed": false
   },
   "outputs": [
    {
     "name": "stdout",
     "output_type": "stream",
     "text": [
      "+-------+------------+-----------------+\n",
      "| topic |    word    |      score      |\n",
      "+-------+------------+-----------------+\n",
      "|   0   | university | 0.0337723780773 |\n",
      "|   0   |  research  | 0.0120334992502 |\n",
      "|   0   | professor  | 0.0118011432268 |\n",
      "+-------+------------+-----------------+\n",
      "[3 rows x 3 columns]\n",
      "\n",
      "\n",
      "0.210343660789\n"
     ]
    }
   ],
   "source": [
    "print topic_model.get_topics(topic_ids=[0], num_words=3)\n",
    "print\n",
    "print sum(topic_model.get_topics(topic_ids=[2], num_words=50)['score'])\n",
    "#DAF: print sum(topic_model.get_topics(topic_ids=[2], num_words=547462)['score']) da = 1\n"
   ]
  },
  {
   "cell_type": "markdown",
   "metadata": {},
   "source": [
    "Let's look at the top 10 words for each topic to see if we can identify any themes:"
   ]
  },
  {
   "cell_type": "code",
   "execution_count": 58,
   "metadata": {
    "collapsed": false
   },
   "outputs": [
    {
     "data": {
      "text/plain": [
       "[['university',\n",
       "  'research',\n",
       "  'professor',\n",
       "  'international',\n",
       "  'institute',\n",
       "  'science',\n",
       "  'society',\n",
       "  'studies',\n",
       "  'director',\n",
       "  'national'],\n",
       " ['played',\n",
       "  'season',\n",
       "  'league',\n",
       "  'team',\n",
       "  'career',\n",
       "  'football',\n",
       "  'games',\n",
       "  'player',\n",
       "  'coach',\n",
       "  'game'],\n",
       " ['film',\n",
       "  'music',\n",
       "  'album',\n",
       "  'released',\n",
       "  'band',\n",
       "  'television',\n",
       "  'series',\n",
       "  'show',\n",
       "  'award',\n",
       "  'appeared'],\n",
       " ['university',\n",
       "  'school',\n",
       "  'served',\n",
       "  'college',\n",
       "  'state',\n",
       "  'american',\n",
       "  'states',\n",
       "  'united',\n",
       "  'born',\n",
       "  'law'],\n",
       " ['member',\n",
       "  'party',\n",
       "  'election',\n",
       "  'minister',\n",
       "  'government',\n",
       "  'elected',\n",
       "  'served',\n",
       "  'president',\n",
       "  'general',\n",
       "  'committee'],\n",
       " ['work',\n",
       "  'art',\n",
       "  'book',\n",
       "  'published',\n",
       "  'york',\n",
       "  'magazine',\n",
       "  'radio',\n",
       "  'books',\n",
       "  'award',\n",
       "  'arts'],\n",
       " ['company',\n",
       "  'business',\n",
       "  'years',\n",
       "  'group',\n",
       "  'time',\n",
       "  'family',\n",
       "  'people',\n",
       "  'india',\n",
       "  'million',\n",
       "  'indian'],\n",
       " ['world',\n",
       "  'won',\n",
       "  'born',\n",
       "  'time',\n",
       "  'year',\n",
       "  'team',\n",
       "  'championship',\n",
       "  'tour',\n",
       "  'championships',\n",
       "  'title'],\n",
       " ['born',\n",
       "  'british',\n",
       "  'london',\n",
       "  'australian',\n",
       "  'south',\n",
       "  'joined',\n",
       "  'years',\n",
       "  'made',\n",
       "  'england',\n",
       "  'australia'],\n",
       " ['music',\n",
       "  'de',\n",
       "  'born',\n",
       "  'international',\n",
       "  'la',\n",
       "  'orchestra',\n",
       "  'opera',\n",
       "  'studied',\n",
       "  'french',\n",
       "  'festival']]"
      ]
     },
     "execution_count": 58,
     "metadata": {},
     "output_type": "execute_result"
    }
   ],
   "source": [
    "#DAF understanding\n",
    "[x['words'] for x in topic_model.get_topics(output_type='topic_words', num_words=10)]"
   ]
  },
  {
   "cell_type": "markdown",
   "metadata": {},
   "source": [
    "We propose the following themes for each topic:\n",
    "\n",
    "- topic 0: Science and research\n",
    "- topic 1: Team sports\n",
    "- topic 2: Music, TV, and film\n",
    "- topic 3: American college and politics\n",
    "- topic 4: General politics\n",
    "- topic 5: Art and publishing\n",
    "- topic 6: Business\n",
    "- topic 7: International athletics\n",
    "- topic 8: Great Britain and Australia\n",
    "- topic 9: International music\n",
    "\n",
    "We'll save these themes for later:"
   ]
  },
  {
   "cell_type": "code",
   "execution_count": 59,
   "metadata": {
    "collapsed": true
   },
   "outputs": [],
   "source": [
    "themes = ['science and research','team sports','music, TV, and film','American college and politics','general politics', \\\n",
    "         'art and publishing','Business','international athletics','Great Britain and Australia','international music']"
   ]
  },
  {
   "cell_type": "markdown",
   "metadata": {},
   "source": [
    "### Measuring the importance of top words\n",
    "\n",
    "We can learn more about topics by exploring how they place probability mass (which we can think of as a weight) on each of their top words.\n",
    "\n",
    "We'll do this with two visualizations of the weights for the top words in each topic:\n",
    " - the weights of the top 100 words, sorted by the size\n",
    " - the total weight of the top 10 words\n"
   ]
  },
  {
   "cell_type": "markdown",
   "metadata": {},
   "source": [
    "Here's a plot for the top 100 words by weight in each topic:"
   ]
  },
  {
   "cell_type": "code",
   "execution_count": 64,
   "metadata": {
    "collapsed": false
   },
   "outputs": [
    {
     "data": {
      "text/plain": [
       "dtype: float\n",
       "Rows: 100\n",
       "[0.03377237807725826, 0.012033499250205755, 0.011801143226764909, 0.008813833898980135, 0.008510455845732842, 0.00837981038349629, 0.00654814346663618, 0.006458708317991025, 0.006314033812829743, 0.005795836039797515, 0.005597675808485698, 0.005544190082335163, 0.005393377870894312, 0.005245196105001847, 0.004997057408270679, 0.004763824569647037, 0.004711215658679298, 0.004516562688098664, 0.004510424981819095, 0.004449047919023399, 0.004178112027539544, 0.004153561202421266, 0.0041316408228513745, 0.0040246693705503055, 0.004001872175797619, 0.0038896398323997753, 0.003805465574851393, 0.003436326382894425, 0.0034047610363137815, 0.00330831136620626, 0.003298666399195508, 0.0032197530327438997, 0.0031504846333030435, 0.0031452237422062695, 0.0031373324055611086, 0.0031294410689159478, 0.0030724480820342307, 0.0030557885935611133, 0.003021592801432083, 0.003004933312958966, 0.0029470635108944532, 0.0029391721742492924, 0.0028742878507224145, 0.0028243093853030626, 0.00264543908801275, 0.0026243955236256544, 0.0025972142529589893, 0.0025647720911955506, 0.0025367140053460897, 0.0025218081472385637, 0.002493750061389103, 0.002461307899625664, 0.0024595542692600727, 0.0023552132625073905, 0.002232459136916, 0.002214922833260087, 0.0021956328992385828, 0.002152668955281596, 0.00211759634796977, 0.002052712024442892, 0.0020509583940773006, 0.0020097480804859053, 0.00200273355902354, 0.0019869508857332185, 0.001958015984700962, 0.0018975157370880623, 0.0018484140868515059, 0.0018422763805719363, 0.0018247400769160235, 0.0018150951099052714, 0.0017993124366149497, 0.0017852833936902192, 0.0017502107863783933, 0.0017116309183353847, 0.0016695437895611937, 0.0016598988225504415, 0.0016449929644429156, 0.0016371016277977547, 0.0016344711822493677, 0.0016300871063353894, 0.0015844927168300158, 0.0015801086409160375, 0.0015634491524429202, 0.001559065076528942, 0.0015529273702493723, 0.001541528772873029, 0.0015388983273246421, 0.0015231156540343204, 0.0015108402414751813, 0.0015064561655612032, 0.0014836589708085162, 0.0014836589708085162, 0.0014573545153246468, 0.0014459559179483034, 0.0014450791027655076, 0.0014398182116687338, 0.00143455732057196, 0.0014266659839267991, 0.0014152673865504557, 0.0014108833106364774]"
      ]
     },
     "execution_count": 64,
     "metadata": {},
     "output_type": "execute_result"
    }
   ],
   "source": [
    "# DAF understanding\n",
    "topic_model.get_topics(topic_ids=[0], num_words=100)['score']"
   ]
  },
  {
   "cell_type": "code",
   "execution_count": 63,
   "metadata": {
    "collapsed": false
   },
   "outputs": [
    {
     "data": {
      "text/plain": [
       "<matplotlib.text.Text at 0x7f1f899c56d0>"
      ]
     },
     "execution_count": 63,
     "metadata": {},
     "output_type": "execute_result"
    },
    {
     "data": {
      "image/png": "[encoded data removed]",
      "text/plain": [
       "<matplotlib.figure.Figure at 0x7f1f942b6350>"
      ]
     },
     "metadata": {},
     "output_type": "display_data"
    }
   ],
   "source": [
    "for i in range(10):\n",
    "    plt.plot(range(100), topic_model.get_topics(topic_ids=[i], num_words=100)['score'])\n",
    "plt.xlabel('Word rank')\n",
    "plt.ylabel('Probability')\n",
    "plt.title('Probabilities of Top 100 Words in each Topic')"
   ]
  },
  {
   "cell_type": "markdown",
   "metadata": {},
   "source": [
    "In the above plot, each line corresponds to one of our ten topics. Notice how for each topic, the weights drop off sharply as we move down the ranked list of most important words. This shows that the top 10-20 words in each topic are assigned a much greater weight than the remaining words - and remember from the summary of our topic model that our vocabulary has 547462 words in total!\n",
    "\n",
    "\n",
    "Next we plot the total weight assigned by each topic to its top 10 words: "
   ]
  },
  {
   "cell_type": "code",
   "execution_count": 67,
   "metadata": {
    "collapsed": false
   },
   "outputs": [
    {
     "name": "stdout",
     "output_type": "stream",
     "text": [
      "[0.10842784231969266, 0.12338367462561742, 0.08309116123904615, 0.11869171409612293, 0.07568004752488791, 0.08636736369933445, 0.05197049157967558, 0.0947122485546823, 0.07965265837594167, 0.07613543837970821]\n"
     ]
    }
   ],
   "source": [
    "np.arange(10)\n",
    "top_probs = [sum(topic_model.get_topics(topic_ids=[i], num_words=10)['score']) for i in range(10)]\n",
    "print top_probs"
   ]
  },
  {
   "cell_type": "code",
   "execution_count": 66,
   "metadata": {
    "collapsed": false
   },
   "outputs": [
    {
     "data": {
      "image/png": "[encoded data removed]",
      "text/plain": [
       "<matplotlib.figure.Figure at 0x7f1f89a8a350>"
      ]
     },
     "metadata": {},
     "output_type": "display_data"
    }
   ],
   "source": [
    "top_probs = [sum(topic_model.get_topics(topic_ids=[i], num_words=10)['score']) for i in range(10)]\n",
    "\n",
    "ind = np.arange(10)\n",
    "width = 0.5\n",
    "\n",
    "fig, ax = plt.subplots()\n",
    "\n",
    "ax.bar(ind-(width/2),top_probs,width)\n",
    "ax.set_xticks(ind)\n",
    "\n",
    "plt.xlabel('Topic')\n",
    "plt.ylabel('Probability')\n",
    "plt.title('Total Probability of Top 10 Words in each Topic')\n",
    "plt.xlim(-0.5,9.5)\n",
    "plt.ylim(0,0.15)\n",
    "plt.show()"
   ]
  },
  {
   "cell_type": "markdown",
   "metadata": {},
   "source": [
    "Here we see that, for our topic model, the top 10 words only account for a small fraction (in this case, between 5% and 13%) of their topic's total probability mass. So while we can use the top words to identify broad themes for each topic, we should keep in mind that in reality these topics are more complex than a simple 10-word summary.\n",
    "\n",
    "Finally, we observe that some 'junk' words appear highly rated in some topics despite our efforts to remove unhelpful words before fitting the model; for example, the word 'born' appears as a top 10 word in three different topics, but it doesn't help us describe these topics at all."
   ]
  },
  {
   "cell_type": "markdown",
   "metadata": {},
   "source": [
    "# Topic distributions for some example documents\n",
    "\n",
    "As we noted in the introduction to this assignment, LDA allows for mixed membership, which means that each document can partially belong to several different topics. For each document, topic membership is expressed as a vector of weights that sum to one; the magnitude of each weight indicates the degree to which the document represents that particular topic.\n",
    "\n",
    "We'll explore this in our fitted model by looking at the topic distributions for a few example Wikipedia articles from our data set. We should find that these articles have the highest weights on the topics whose themes are most relevant to the subject of the article - for example, we'd expect an article on a politician to place relatively high weight on topics related to government, while an article about an athlete should place higher weight on topics related to sports or competition."
   ]
  },
  {
   "cell_type": "markdown",
   "metadata": {},
   "source": [
    "Topic distributions for documents can be obtained using GraphLab Create's predict() function. GraphLab Create uses a collapsed Gibbs sampler similar to the one described in the video lectures, where only the word assignments variables are sampled.  To get a document-specific topic proportion vector post-facto, predict() draws this vector from the conditional distribution given the sampled word assignments in the document.  Notice that, since these are draws from a _distribution_ over topics that the model has learned, we will get slightly different predictions each time we call this function on a document - we can see this below, where we predict the topic distribution for the article on Barack Obama:"
   ]
  },
  {
   "cell_type": "code",
   "execution_count": 68,
   "metadata": {
    "collapsed": false
   },
   "outputs": [
    {
     "name": "stdout",
     "output_type": "stream",
     "text": [
      "+--------------------------+---------------------------+\n",
      "| predictions (first draw) | predictions (second draw) |\n",
      "+--------------------------+---------------------------+\n",
      "|     0.0403225806452      |      0.0349462365591      |\n",
      "|     0.0591397849462      |      0.0645161290323      |\n",
      "|     0.0215053763441      |      0.0215053763441      |\n",
      "|      0.10752688172       |       0.123655913978      |\n",
      "|      0.604838709677      |       0.612903225806      |\n",
      "|     0.0134408602151      |      0.0241935483871      |\n",
      "|     0.0483870967742      |      0.0376344086022      |\n",
      "|     0.0510752688172      |      0.0188172043011      |\n",
      "|     0.0188172043011      |      0.0322580645161      |\n",
      "|     0.0349462365591      |      0.0295698924731      |\n",
      "+--------------------------+---------------------------+\n",
      "+-------------------------------+\n",
      "|             topics            |\n",
      "+-------------------------------+\n",
      "|      science and research     |\n",
      "|          team sports          |\n",
      "|      music, TV, and film      |\n",
      "| American college and politics |\n",
      "|        general politics       |\n",
      "|       art and publishing      |\n",
      "|            Business           |\n",
      "|    international athletics    |\n",
      "|  Great Britain and Australia  |\n",
      "|      international music      |\n",
      "+-------------------------------+\n",
      "[10 rows x 3 columns]\n",
      "\n"
     ]
    }
   ],
   "source": [
    "obama = gl.SArray([wiki_docs[int(np.where(wiki['name']=='Barack Obama')[0])]])\n",
    "pred1 = topic_model.predict(obama, output_type='probability')\n",
    "pred2 = topic_model.predict(obama, output_type='probability')\n",
    "print(gl.SFrame({'topics':themes, 'predictions (first draw)':pred1[0], 'predictions (second draw)':pred2[0]}))"
   ]
  },
  {
   "cell_type": "code",
   "execution_count": 75,
   "metadata": {
    "collapsed": false
   },
   "outputs": [
    {
     "name": "stdout",
     "output_type": "stream",
     "text": [
      "[{'operations': 1, 'represent': 1, 'office': 2, 'unemployment': 1, 'administration': 1, 'unconstitutional': 1, 'domestic': 2, 'major': 1, 'ending': 1, 'ended': 1, 'proposition': 1, 'seats': 1, 'illinois': 2, 'debate': 1, 'death': 1, '20': 2, 'californias': 1, 'taxpayer': 1, 'inaugurated': 1, 'obamacare': 1, 'barack': 1, 'wall': 1, '4': 1, 'policy': 2, '8': 1, '2011': 3, '2010': 2, '2013': 1, '2012': 1, 'bin': 1, 'march': 1, 'increased': 1, 'cuba': 1, 'term': 3, 'made': 1, 'years': 1, 'continued': 1, 'presidential': 2, 'husen': 1, 'school': 3, 'equality': 1, 'prize': 1, 'lost': 1, 'stimulus': 1, 'january': 3, 'university': 2, '1996': 1, 'july': 1, 'hawaii': 1, 'victory': 1, 'withdrawal': 1, 'americans': 1, 'referred': 1, 'unsuccessfully': 1, 'attorney': 1, 'senate': 3, 'house': 2, 'national': 2, 'creation': 1, 'related': 1, 'gun': 1, 'born': 2, 'street': 1, 'election': 3, 'close': 1, 'operation': 1, 'insurance': 1, 'sandy': 1, 'afghanistan': 2, 'initiatives': 1, 'reform': 1, 'federal': 1, 'review': 1, 'representatives': 2, 'repeal': 1, 'current': 1, 'state': 1, 'won': 1, 'limit': 1, 'troop': 1, 'affordable': 1, 'reauthorization': 1, 'keynote': 1, 'full': 1, 'patient': 1, 'august': 1, 'degree': 1, '44th': 1, 'bm': 1, 'mitt': 1, 'attention': 1, 'delegates': 1, 'lgbt': 1, 'job': 1, 'protection': 2, 'address': 1, 'november': 2, 'debt': 1, 'care': 1, 'rodham': 1, 'great': 1, 'libya': 1, 'receive': 1, 'months': 1, 'urged': 1, 'foreign': 2, 'american': 3, 'harvard': 2, 'economic': 1, 'act': 8, 'military': 4, 'hussein': 1, 'named': 1, 'clinton': 1, 'dont': 2, 'campaign': 3, 'brk': 1, 'civil': 1, 'reinvestment': 1, 'primary': 2, 'community': 1, 'mccain': 1, 'osama': 1, 'hook': 1, '63': 1, 'involvement': 3, 'elementary': 1, 'total': 1, 'earning': 1, 'iraq': 4, 'raise': 1, 'district': 1, 'spending': 1, 'republican': 2, 'legislation': 1, 'arms': 1, 'relations': 1, 'nobel': 1, 'start': 1, 'convention': 1, 'strike': 1, 'served': 2, 'john': 1, 'war': 1, 'form': 1, 'received': 1, 'romney': 1, 'sufficient': 1, 'republicans': 1, 'resulted': 1, 'hillary': 1, 'taught': 1, 'honolulu': 1, 'filed': 1, 'regained': 1, 'worked': 1, 'hold': 1, 'representing': 1, 'obama': 9, '13th': 1, '1992': 1, '1997': 1, 'rights': 1, 'reelected': 1, 'budget': 1, 'signed': 3, 'nations': 1, 'recession': 1, 'states': 3, 'defense': 1, 'marriage': 1, 'policies': 1, 'promoted': 1, 'called': 1, 'control': 4, 'supreme': 1, 'ordered': 3, 'nominee': 2, 'process': 1, '2000in': 1, '2012obama': 1, 'tax': 1, 'briefs': 1, 'defeated': 1, 'general': 1, 'ii': 1, 'sought': 1, 'russia': 1, 'organizer': 1, 'shooting': 1, 'gains': 1, 'normalize': 1, 'lengthy': 1, 'united': 3, 'court': 1, 'recovery': 1, 'laden': 1, 'laureateduring': 1, 'peace': 1, 'doddfrank': 1, '1961': 1, 'graduate': 1, 'party': 3, 'primaries': 1, 'sworn': 1, 'relief': 2, 'columbia': 1, 'combat': 1, 'islamic': 1, 'running': 1, 'levels': 1, 'included': 1, 'president': 4, 'law': 6, 'nomination': 1, 'response': 3, 'democratic': 4, 'chicago': 2, 'constitutional': 1, 'defeating': 1, 'treaty': 1, '2007': 1, '2004': 3, 'african': 1, '2008': 1, '2009': 3, 'consumer': 1, 'began': 1, 'terms': 1}]\n",
      "array('d', [0.04032258064516129, 0.05913978494623656, 0.021505376344086023, 0.10752688172043011, 0.6048387096774194, 0.013440860215053764, 0.04838709677419355, 0.051075268817204304, 0.01881720430107527, 0.03494623655913978])\n"
     ]
    }
   ],
   "source": [
    "#DAF understanding\n",
    "print obama\n",
    "print pred1[0]"
   ]
  },
  {
   "cell_type": "markdown",
   "metadata": {},
   "source": [
    "To get a more robust estimate of the topics for each document, we can average a large number of predictions for the same document:"
   ]
  },
  {
   "cell_type": "code",
   "execution_count": 76,
   "metadata": {
    "collapsed": false
   },
   "outputs": [],
   "source": [
    "def average_predictions(model, test_document, num_trials=100):\n",
    "    avg_preds = np.zeros((model.num_topics))\n",
    "    for i in range(num_trials):\n",
    "        avg_preds += model.predict(test_document, output_type='probability')[0]\n",
    "    avg_preds = avg_preds/num_trials\n",
    "    result = gl.SFrame({'topics':themes, 'average predictions':avg_preds})\n",
    "    result = result.sort('average predictions', ascending=False)\n",
    "    return result"
   ]
  },
  {
   "cell_type": "code",
   "execution_count": 77,
   "metadata": {
    "collapsed": false
   },
   "outputs": [
    {
     "name": "stdout",
     "output_type": "stream",
     "text": [
      "+---------------------+-------------------------------+\n",
      "| average predictions |             topics            |\n",
      "+---------------------+-------------------------------+\n",
      "|    0.593709677419   |        general politics       |\n",
      "|    0.13873655914    | American college and politics |\n",
      "|   0.0519892473118   |            Business           |\n",
      "|    0.049811827957   |          team sports          |\n",
      "|   0.0405376344086   |      science and research     |\n",
      "|   0.0342741935484   |    international athletics    |\n",
      "|   0.0255376344086   |  Great Britain and Australia  |\n",
      "|   0.0231451612903   |      international music      |\n",
      "|   0.0227956989247   |       art and publishing      |\n",
      "|   0.0194623655914   |      music, TV, and film      |\n",
      "+---------------------+-------------------------------+\n",
      "[10 rows x 2 columns]\n",
      "\n"
     ]
    }
   ],
   "source": [
    "print average_predictions(topic_model, obama, 100)"
   ]
  },
  {
   "cell_type": "markdown",
   "metadata": {},
   "source": [
    "__Quiz Question:__ What is the topic most closely associated with the article about former US President George W. Bush? Use the average results from 100 topic predictions."
   ]
  },
  {
   "cell_type": "code",
   "execution_count": 161,
   "metadata": {
    "collapsed": false
   },
   "outputs": [
    {
     "name": "stdout",
     "output_type": "stream",
     "text": [
      "+---------------------+-------------------------------+\n",
      "| average predictions |             topics            |\n",
      "+---------------------+-------------------------------+\n",
      "|    0.430409356725   |        general politics       |\n",
      "|    0.189590643275   | American college and politics |\n",
      "|    0.100877192982   |            Business           |\n",
      "|   0.0587426900585   |      science and research     |\n",
      "|   0.0498830409357   |       art and publishing      |\n",
      "|   0.0457894736842   |          team sports          |\n",
      "|   0.0375438596491   |  Great Britain and Australia  |\n",
      "|   0.0364912280702   |    international athletics    |\n",
      "|   0.0299122807018   |      music, TV, and film      |\n",
      "|   0.0207602339181   |      international music      |\n",
      "+---------------------+-------------------------------+\n",
      "[10 rows x 2 columns]\n",
      "\n"
     ]
    }
   ],
   "source": [
    "bush = gl.SArray([wiki_docs[int(np.where(wiki['name']=='George W. Bush')[0])]])\n",
    "print average_predictions(topic_model, bush, 100)"
   ]
  },
  {
   "cell_type": "markdown",
   "metadata": {},
   "source": [
    "__Quiz Question:__ What are the top 3 topics corresponding to the article about English football (soccer) player Steven Gerrard? Use the average results from 100 topic predictions."
   ]
  },
  {
   "cell_type": "code",
   "execution_count": 78,
   "metadata": {
    "collapsed": false
   },
   "outputs": [
    {
     "name": "stdout",
     "output_type": "stream",
     "text": [
      "[{'fifa': 2, 'ended': 1, 'world': 3, 'cementing': 1, 'captain': 2, 'galaxy': 1, 'cup': 4, 'countrys': 1, 'permanent': 1, 'hyypi': 1, 'win': 1, '2015': 1, '2014': 2, 'include': 1, 'footballer': 5, '2010': 1, 'wingergerrard': 1, '2012': 3, 'caps': 1, 'fan': 1, 'honours': 1, 'footballers': 1, 'entire': 1, 'captaining': 1, 'liverpoolgerrard': 1, 'debut': 2, 'gerrard': 5, 'team': 7, 'capsregarded': 1, 'european': 1, 'england': 3, 'ballon': 1, 'generation': 1, 'list': 1, 'national': 1, 'back': 1, '114': 1, 'year': 5, 'cups': 4, 'plays': 1, 'mls': 1, 'won': 2, 'honoured': 1, 'succeeding': 1, 'international': 2, 'tournaments': 1, 'sixth': 1, 'represented': 1, '100': 2, 'super': 1, 'bronze': 1, 'league': 5, 'central': 1, 'english': 2, 'career': 3, 'country': 1, '30': 1, 'fwa': 1, 'contract': 1, 'times': 2, 'players': 2, 'place': 1, '2013zinedine': 1, 'named': 4, 'xi': 1, 'mbe': 1, 'steven': 1, 'midfielder': 3, 'poll': 1, 'george': 1, '1980': 1, 'captains': 1, 'time': 1, 'kop': 1, 'final': 4, 'dalglish': 1, 'pfa': 2, 'premier': 1, '201415': 1, 'club': 3, 'season': 1, 'award': 1, 'striker': 1, 'championships': 1, 'july': 2, 'champions': 2, 'made': 1, 'join': 1, 'born': 1, '1998': 1, 'appearance': 1, 'signed': 1, 'record': 1, 'making': 1, 'shook': 1, 'kenny': 1, 'played': 1, 'tournament': 1, 'zidane': 1, 'player': 2, 'liverpool': 2, 'sami': 1, 'goal': 1, 'holding': 1, 'conclusion': 1, 'scored': 1, 'la': 1, 'football': 2, 'fa': 2, 'anfield': 1, 'date': 1, 'euro': 1, 'shortly': 1, 'considered': 1, 'spent': 1, 'attacking': 1, '2003': 1, '2000': 3, '2006': 2, '2004': 1, '2005': 1, 'dor': 1, '2008': 1, '2009': 2, 'uefa': 9}] \n",
      "\n",
      "\n",
      "+---------------------+-------------------------------+\n",
      "| average predictions |             topics            |\n",
      "+---------------------+-------------------------------+\n",
      "|       0.48888       |          team sports          |\n",
      "|       0.16968       |  Great Britain and Australia  |\n",
      "|       0.13332       |    international athletics    |\n",
      "|       0.03544       |      international music      |\n",
      "|       0.03304       |        general politics       |\n",
      "|       0.03204       |      music, TV, and film      |\n",
      "|       0.02932       |            Business           |\n",
      "|       0.02784       |       art and publishing      |\n",
      "|        0.0258       | American college and politics |\n",
      "|       0.02464       |      science and research     |\n",
      "+---------------------+-------------------------------+\n",
      "[10 rows x 2 columns]\n",
      "\n"
     ]
    }
   ],
   "source": [
    "gerrard = gl.SArray([wiki_docs[int(np.where(wiki['name']=='Steven Gerrard')[0])]])\n",
    "print gerrard, \"\\n\\n\"\n",
    "print average_predictions(topic_model, gerrard, 100)"
   ]
  },
  {
   "cell_type": "markdown",
   "metadata": {},
   "source": [
    "# Comparing LDA to nearest neighbors for document retrieval\n",
    "\n",
    "So far we have found that our topic model has learned some coherent topics, we have explored these topics as probability distributions over a vocabulary, and we have seen how individual documents in our Wikipedia data set are assigned to these topics in a way that corresponds with our expectations. \n",
    "\n",
    "In this section, we will use the predicted topic distribution as a representation of each document, similar to how we have previously represented documents by word count or TF-IDF. This gives us a way of computing distances between documents, so that we can run a nearest neighbors search for a given document based on its membership in the topics that we learned from LDA. We can contrast the results with those obtained by running nearest neighbors under the usual TF-IDF representation, an approach that we explored in a previous assignment. \n",
    "\n",
    "We'll start by creating the LDA topic distribution representation for each document:"
   ]
  },
  {
   "cell_type": "code",
   "execution_count": 79,
   "metadata": {
    "collapsed": false
   },
   "outputs": [],
   "source": [
    "wiki['lda'] = topic_model.predict(wiki_docs, output_type='probability')"
   ]
  },
  {
   "cell_type": "markdown",
   "metadata": {},
   "source": [
    "Next we add the TF-IDF document representations:"
   ]
  },
  {
   "cell_type": "code",
   "execution_count": 80,
   "metadata": {
    "collapsed": false
   },
   "outputs": [],
   "source": [
    "wiki['word_count'] = gl.text_analytics.count_words(wiki['text'])\n",
    "wiki['tf_idf'] = gl.text_analytics.tf_idf(wiki['word_count'])"
   ]
  },
  {
   "cell_type": "code",
   "execution_count": 87,
   "metadata": {
    "collapsed": false
   },
   "outputs": [
    {
     "name": "stdout",
     "output_type": "stream",
     "text": [
      "[{'operations': 3.811771079388818, 'represent': 4.184100625900883, 'office': 5.2481728232196465, 'unemployment': 6.642689967371511, 'is': 0.05523250095103998, 'doddfrank': 9.887883100557085, 'over': 1.4878231559557336, 'unconstitutional': 6.8276123058655225, 'domestic': 8.967410686619141, 'named': 2.0300155412252816, 'ending': 4.547145018125096, 'ended': 3.3430124821479934, 'proposition': 6.926052378678775, 'seats': 5.000043383940756, 'graduate': 2.6750971107885535, 'worked': 1.553891853362109, 'before': 1.4967823726683713, 'death': 3.1568650000750016, '20': 4.88376320446593, 'taxpayer': 7.431147327735781, 'inaugurated': 6.27696518791286, 'obamacare': 9.04058524016988, 'civil': 3.3244978303233013, 'mccain': 6.766987684049088, 'to': 0.6572291275451891, '4': 2.437803530749586, 'policy': 6.095386282141427, '8': 2.7572509724892824, 'has': 1.713990158976156, '2011': 5.107041270312876, '2010': 3.185667920243947, '2013': 1.9545642372230505, '2012': 1.7938099524877322, 'bin': 5.6158573610975315, 'then': 1.4309354361561304, 'his': 2.8887260073502303, 'march': 1.9573172463231197, 'gains': 6.7238155121838785, 'cuba': 5.005081177970713, 'californias': 5.923900356198227, '1992': 2.278351314316948, 'new': 0.8871532656125274, 'not': 1.5880170751336171, 'during': 2.634930295807099, 'years': 1.0752380994247055, 'continued': 2.720588055069447, 'presidential': 7.386955418904825, 'husen': 10.986495389225194, 'osama': 6.604468754551313, 'term': 9.319341564760851, 'equality': 5.341048491581956, 'prize': 2.7453192387302345, 'lost': 2.731706463076469, 'stimulus': 7.654290879049991, 'january': 5.656236009557883, 'university': 1.6946860096423695, 'rights': 3.06677562830062, 'gun': 5.269467687818973, 'republican': 7.207497878972565, 'rodham': 7.690658523220865, 'troop': 7.248825770941826, 'withdrawal': 6.27696518791286, 'involvement': 12.784385241175055, 'response': 12.784385241175055, 'where': 1.089076212090673, 'referred': 4.255477288743111, 'affordable': 6.134465125305577, 'attorney': 3.6593720969659014, 'school': 3.6683618376520553, 'senate': 10.164288179703693, 'house': 4.651096468328522, 'national': 2.3721863295447827, 'creation': 4.03568062078261, 'related': 3.723866788250953, 'hawaii': 4.806478735572622, 'born': 0.53639254752953, 'second': 3.344851662973069, 'street': 3.250188292676909, 'election': 7.712676160711769, 'close': 3.5416621153330006, 'operation': 4.3584540130456615, 'insurance': 4.594578275832593, 'sandy': 5.493433945884646, 'afghanistan': 9.4197037997671, 'initiatives': 4.895185507147496, 'for': 0.29145011737314763, 'reform': 4.092839034622559, 'federal': 3.0888272384982884, 'review': 3.227734845067532, 'representatives': 7.484535747243688, 'debate': 4.783959872037272, 'current': 2.8308461188591933, 'state': 1.7090572737165175, 'won': 1.3836400683164753, 'marriage': 4.115404094614648, 'victory': 3.384593429350028, 'unsuccessfully': 4.831637295208776, 'reauthorization': 8.907053847545358, 'keynote': 5.433535804303577, 'full': 3.003055326218652, 'patient': 5.6393878585077255, 'august': 2.000173951599175, 'degree': 2.0206498944742566, '44th': 7.0744723837970485, 'bm': 7.202305755306933, 'mitt': 6.812108119329557, 'attention': 3.4269358932174945, 'delegates': 6.142308302766603, 'lgbt': 5.5883326877074415, 'job': 3.446936559924164, 'protection': 8.698474715881474, 'address': 4.8023464982877115, 'ask': 5.510031837293684, 'november': 3.9453132752336004, 'debt': 5.6158573610975315, 'by': 0.37455341206197373, 'care': 3.916621260766622, 'on': 0.36882550670120073, 'great': 2.7682474625394486, 'defense': 3.794313330511949, 'signed': 7.552957376250012, 'libya': 6.332535039067671, 'receive': 4.448355565457525, 'of': 0.07481117158400744, 'months': 3.0427126967665687, 'against': 2.0079609791418744, 'foreign': 6.3816977057812005, 'spending': 4.176352939110058, 'american': 3.3821333532750204, 'harvard': 6.634000276435001, 'act': 27.67822262297991, 'military': 13.115932778499415, 'hussein': 6.126682984863522, 'or': 1.9128915408224825, 'first': 2.0868146141979307, 'and': 0.01564802185902329, 'major': 2.0581201293715634, 'clinton': 4.542364132524754, '1997': 2.1298344522079455, 'campaign': 9.077468342511231, 'russia': 4.025199343315028, 'wall': 4.021415043623787, 'legislation': 4.687546142369252, 'into': 1.6050629424066056, 'primary': 6.710127449296579, 'community': 2.693196030513871, 'three': 1.4915025293575952, 'down': 2.9476606314374463, 'hook': 6.2951475069960505, 'ii': 3.3077063910260405, '63': 5.22130428644035, 'americans': 4.761936959949835, 'elementary': 4.96062941539988, 'total': 3.2767385247710297, 'earning': 3.857197840295821, 'often': 2.862641126119281, 'barack': 5.067601534952048, 'law': 14.722935761763422, 'from': 0.8812660139569034, 'raise': 4.67476058007228, 'district': 2.774469584601757, 'representing': 3.535253704237518, 'nine': 3.2624907325491286, 'reinvestment': 8.421546031763658, 'arms': 5.030658019760364, 'relations': 3.445873860568042, 'nobel': 5.075698745184667, 'start': 3.281232914358869, 'dont': 8.28123102792229, 'tell': 4.804410482508563, 'iraq': 17.747378587965535, 'convention': 4.417013968810898, 'strike': 5.025490049601921, 'served': 3.0725446998610506, 'john': 1.9913303989140443, 'was': 0.3968289280609173, 'war': 2.809822617276739, 'form': 3.233730580373866, 'that': 0.6614069466714981, 'tax': 4.545548848592274, 'sufficient': 6.432618497624653, 'republicans': 5.592867842872833, 'resulted': 4.015765311081669, 'hillary': 6.002888767516858, 'taught': 2.8485149347730556, 'honolulu': 5.880549915324614, 'filed': 4.70797396505935, 'regained': 5.583818007352915, 'july': 1.9428000946579587, 'hold': 4.144879912747602, 'with': 0.6074059275661821, 'he': 1.493579903611068, '13th': 4.9534091674263925, 'made': 1.519886215502974, 'brk': 10.293348208665249, '1996': 2.135691193468776, 'whether': 4.744272123770029, 'reelected': 3.68265216394749, 'budget': 4.523465932304524, 'us': 11.591942692842837, 'nations': 3.361876403065796, 'recession': 6.642689967371511, 'while': 1.8364359481339414, 'economic': 3.2704801225826072, 'limit': 5.355283607403829, 'policies': 4.660345916070095, 'promoted': 3.5191243223076345, 'called': 2.0784770664403074, 'at': 0.43063857330825733, 'control': 14.887060845181308, 'supreme': 3.9140734886878232, 'ordered': 14.533373950913514, 'nominee': 9.43101391473379, 'process': 3.7451291059028766, '2000in': 6.250296940830698, '2012obama': 10.986495389225194, 'received': 1.5396609815666638, 'romney': 6.843360662833661, 'briefs': 7.460134864609033, 'defeated': 3.4068165661347387, 'general': 2.220724845237937, 'states': 5.473200989631017, 'as': 0.7630171320744707, 'urged': 6.199003646443148, 'in': 0.028962190503643476, 'sought': 4.327201469541557, 'organizer': 5.501698455734539, 'shooting': 4.682046586803213, 'increased': 4.75012579902149, 'normalize': 10.293348208665249, 'lengthy': 5.862531409821935, 'united': 4.703766236011668, 'court': 2.896399606044235, 'recovery': 5.103173000736915, 'laden': 6.709829270209139, 'laureateduring': 10.986495389225194, 'peace': 3.7928095708300824, 'administration': 3.2952952917023315, '1961': 3.3207419573634955, 'illinois': 7.480254618245467, 'other': 1.4424007566948476, 'which': 0.7674309670437692, 'party': 7.0620334604226676, 'primaries': 6.669007275688884, 'sworn': 4.96062941539988, '2007': 1.4879730697555795, 'obama': 43.2956530720749, 'columbia': 3.232442750189437, 'combat': 4.932056042955824, 'after': 3.7773337680052257, 'islamic': 4.785986215182504, 'running': 3.3516747114796512, 'levels': 4.647901311022012, 'two': 1.0988831858473562, 'included': 2.4446095852185854, 'president': 7.226869291326606, 'repeal': 7.297615935111258, 'nomination': 3.7697859025157365, 'the': 0.004063113702956533, 'a': 0.039334291308082026, '2009': 4.693309450812809, 'chicago': 5.858235801334405, 'constitutional': 4.529725733653031, 'defeating': 4.285764279677384, 'treaty': 5.89889905399281, 'relief': 8.842460838379667, '2004': 5.071033082507702, 'african': 3.582216271187926, '2008': 1.5093391374786154, 'democratic': 12.410688697332166, 'consumer': 4.7540473726746715, 'began': 1.727460095710253, 'terms': 3.8240978918694766}, ... ] \n",
      "\n",
      "[array('d', [0.03494623655913978, 0.04838709677419355, 0.013440860215053764, 0.16666666666666666, 0.5779569892473119, 0.03225806451612903, 0.0456989247311828, 0.024193548387096774, 0.03225806451612903, 0.024193548387096774]), ... ] \n",
      "\n",
      "\n",
      "273 \n",
      "10\n"
     ]
    }
   ],
   "source": [
    "#DAF understanding\n",
    "obama_row = wiki[ wiki['name']=='Barack Obama' ]\n",
    "print obama_row['tf_idf'] , \"\\n\"\n",
    "print obama_row['lda'] , \"\\n\\n\"\n",
    "\n",
    "# tiene muchos más parametros la representacion tf_idf (1 per word) que la lda (1 per topic weight)\n",
    "print len(obama_row['tf_idf'][0]) , \"\\n\", len(obama_row['lda'][0])"
   ]
  },
  {
   "cell_type": "markdown",
   "metadata": {},
   "source": [
    "For each of our two different document representations, we can use GraphLab Create to compute a brute-force nearest neighbors model:"
   ]
  },
  {
   "cell_type": "code",
   "execution_count": 175,
   "metadata": {
    "collapsed": false
   },
   "outputs": [
    {
     "data": {
      "text/html": [
       "<pre>Starting brute force nearest neighbors model training.</pre>"
      ],
      "text/plain": [
       "Starting brute force nearest neighbors model training."
      ]
     },
     "metadata": {},
     "output_type": "display_data"
    },
    {
     "data": {
      "text/html": [
       "<pre>Starting brute force nearest neighbors model training.</pre>"
      ],
      "text/plain": [
       "Starting brute force nearest neighbors model training."
      ]
     },
     "metadata": {},
     "output_type": "display_data"
    }
   ],
   "source": [
    "model_tf_idf = gl.nearest_neighbors.create(wiki, label='name', features=['tf_idf'],\n",
    "                                           method='brute_force', distance='cosine')\n",
    "model_lda_rep = gl.nearest_neighbors.create(wiki, label='name', features=['lda'],\n",
    "                                            method='brute_force', distance='cosine')"
   ]
  },
  {
   "cell_type": "markdown",
   "metadata": {},
   "source": [
    "Let's compare these nearest neighbor models by finding the nearest neighbors under each representation on an example document. For this example we'll use Paul Krugman, an American economist:"
   ]
  },
  {
   "cell_type": "code",
   "execution_count": 84,
   "metadata": {
    "collapsed": false
   },
   "outputs": [
    {
     "data": {
      "text/html": [
       "<pre>Starting pairwise querying.</pre>"
      ],
      "text/plain": [
       "Starting pairwise querying."
      ]
     },
     "metadata": {},
     "output_type": "display_data"
    },
    {
     "data": {
      "text/html": [
       "<pre>+--------------+---------+-------------+--------------+</pre>"
      ],
      "text/plain": [
       "+--------------+---------+-------------+--------------+"
      ]
     },
     "metadata": {},
     "output_type": "display_data"
    },
    {
     "data": {
      "text/html": [
       "<pre>| Query points | # Pairs | % Complete. | Elapsed Time |</pre>"
      ],
      "text/plain": [
       "| Query points | # Pairs | % Complete. | Elapsed Time |"
      ]
     },
     "metadata": {},
     "output_type": "display_data"
    },
    {
     "data": {
      "text/html": [
       "<pre>+--------------+---------+-------------+--------------+</pre>"
      ],
      "text/plain": [
       "+--------------+---------+-------------+--------------+"
      ]
     },
     "metadata": {},
     "output_type": "display_data"
    },
    {
     "data": {
      "text/html": [
       "<pre>| 0            | 1       | 0.00169288  | 59.195ms     |</pre>"
      ],
      "text/plain": [
       "| 0            | 1       | 0.00169288  | 59.195ms     |"
      ]
     },
     "metadata": {},
     "output_type": "display_data"
    },
    {
     "data": {
      "text/html": [
       "<pre>| 0            | 56413   | 95.5003     | 1.05s        |</pre>"
      ],
      "text/plain": [
       "| 0            | 56413   | 95.5003     | 1.05s        |"
      ]
     },
     "metadata": {},
     "output_type": "display_data"
    },
    {
     "data": {
      "text/html": [
       "<pre>| Done         |         | 100         | 1.16s        |</pre>"
      ],
      "text/plain": [
       "| Done         |         | 100         | 1.16s        |"
      ]
     },
     "metadata": {},
     "output_type": "display_data"
    },
    {
     "data": {
      "text/html": [
       "<pre>+--------------+---------+-------------+--------------+</pre>"
      ],
      "text/plain": [
       "+--------------+---------+-------------+--------------+"
      ]
     },
     "metadata": {},
     "output_type": "display_data"
    },
    {
     "data": {
      "text/html": [
       "<div style=\"max-height:1000px;max-width:1500px;overflow:auto;\"><table frame=\"box\" rules=\"cols\">\n",
       "    <tr>\n",
       "        <th style=\"padding-left: 1em; padding-right: 1em; text-align: center\">query_label</th>\n",
       "        <th style=\"padding-left: 1em; padding-right: 1em; text-align: center\">reference_label</th>\n",
       "        <th style=\"padding-left: 1em; padding-right: 1em; text-align: center\">distance</th>\n",
       "        <th style=\"padding-left: 1em; padding-right: 1em; text-align: center\">rank</th>\n",
       "    </tr>\n",
       "    <tr>\n",
       "        <td style=\"padding-left: 1em; padding-right: 1em; text-align: center; vertical-align: top\">Paul Krugman</td>\n",
       "        <td style=\"padding-left: 1em; padding-right: 1em; text-align: center; vertical-align: top\">Paul Krugman</td>\n",
       "        <td style=\"padding-left: 1em; padding-right: 1em; text-align: center; vertical-align: top\">0.0</td>\n",
       "        <td style=\"padding-left: 1em; padding-right: 1em; text-align: center; vertical-align: top\">1</td>\n",
       "    </tr>\n",
       "    <tr>\n",
       "        <td style=\"padding-left: 1em; padding-right: 1em; text-align: center; vertical-align: top\">Paul Krugman</td>\n",
       "        <td style=\"padding-left: 1em; padding-right: 1em; text-align: center; vertical-align: top\">Elise Brezis</td>\n",
       "        <td style=\"padding-left: 1em; padding-right: 1em; text-align: center; vertical-align: top\">0.744498017262</td>\n",
       "        <td style=\"padding-left: 1em; padding-right: 1em; text-align: center; vertical-align: top\">2</td>\n",
       "    </tr>\n",
       "    <tr>\n",
       "        <td style=\"padding-left: 1em; padding-right: 1em; text-align: center; vertical-align: top\">Paul Krugman</td>\n",
       "        <td style=\"padding-left: 1em; padding-right: 1em; text-align: center; vertical-align: top\">Maitreesh Ghatak</td>\n",
       "        <td style=\"padding-left: 1em; padding-right: 1em; text-align: center; vertical-align: top\">0.81564984831</td>\n",
       "        <td style=\"padding-left: 1em; padding-right: 1em; text-align: center; vertical-align: top\">3</td>\n",
       "    </tr>\n",
       "    <tr>\n",
       "        <td style=\"padding-left: 1em; padding-right: 1em; text-align: center; vertical-align: top\">Paul Krugman</td>\n",
       "        <td style=\"padding-left: 1em; padding-right: 1em; text-align: center; vertical-align: top\">Kai A. Konrad</td>\n",
       "        <td style=\"padding-left: 1em; padding-right: 1em; text-align: center; vertical-align: top\">0.823700564406</td>\n",
       "        <td style=\"padding-left: 1em; padding-right: 1em; text-align: center; vertical-align: top\">4</td>\n",
       "    </tr>\n",
       "    <tr>\n",
       "        <td style=\"padding-left: 1em; padding-right: 1em; text-align: center; vertical-align: top\">Paul Krugman</td>\n",
       "        <td style=\"padding-left: 1em; padding-right: 1em; text-align: center; vertical-align: top\">David Colander</td>\n",
       "        <td style=\"padding-left: 1em; padding-right: 1em; text-align: center; vertical-align: top\">0.834625927759</td>\n",
       "        <td style=\"padding-left: 1em; padding-right: 1em; text-align: center; vertical-align: top\">5</td>\n",
       "    </tr>\n",
       "    <tr>\n",
       "        <td style=\"padding-left: 1em; padding-right: 1em; text-align: center; vertical-align: top\">Paul Krugman</td>\n",
       "        <td style=\"padding-left: 1em; padding-right: 1em; text-align: center; vertical-align: top\">Richard Blundell</td>\n",
       "        <td style=\"padding-left: 1em; padding-right: 1em; text-align: center; vertical-align: top\">0.837934267874</td>\n",
       "        <td style=\"padding-left: 1em; padding-right: 1em; text-align: center; vertical-align: top\">6</td>\n",
       "    </tr>\n",
       "    <tr>\n",
       "        <td style=\"padding-left: 1em; padding-right: 1em; text-align: center; vertical-align: top\">Paul Krugman</td>\n",
       "        <td style=\"padding-left: 1em; padding-right: 1em; text-align: center; vertical-align: top\">Gordon Rausser</td>\n",
       "        <td style=\"padding-left: 1em; padding-right: 1em; text-align: center; vertical-align: top\">0.83941534706</td>\n",
       "        <td style=\"padding-left: 1em; padding-right: 1em; text-align: center; vertical-align: top\">7</td>\n",
       "    </tr>\n",
       "    <tr>\n",
       "        <td style=\"padding-left: 1em; padding-right: 1em; text-align: center; vertical-align: top\">Paul Krugman</td>\n",
       "        <td style=\"padding-left: 1em; padding-right: 1em; text-align: center; vertical-align: top\">Edward J. Nell</td>\n",
       "        <td style=\"padding-left: 1em; padding-right: 1em; text-align: center; vertical-align: top\">0.842178500015</td>\n",
       "        <td style=\"padding-left: 1em; padding-right: 1em; text-align: center; vertical-align: top\">8</td>\n",
       "    </tr>\n",
       "    <tr>\n",
       "        <td style=\"padding-left: 1em; padding-right: 1em; text-align: center; vertical-align: top\">Paul Krugman</td>\n",
       "        <td style=\"padding-left: 1em; padding-right: 1em; text-align: center; vertical-align: top\">Robin Boadway</td>\n",
       "        <td style=\"padding-left: 1em; padding-right: 1em; text-align: center; vertical-align: top\">0.842374260596</td>\n",
       "        <td style=\"padding-left: 1em; padding-right: 1em; text-align: center; vertical-align: top\">9</td>\n",
       "    </tr>\n",
       "    <tr>\n",
       "        <td style=\"padding-left: 1em; padding-right: 1em; text-align: center; vertical-align: top\">Paul Krugman</td>\n",
       "        <td style=\"padding-left: 1em; padding-right: 1em; text-align: center; vertical-align: top\">Tim Besley</td>\n",
       "        <td style=\"padding-left: 1em; padding-right: 1em; text-align: center; vertical-align: top\">0.843088109253</td>\n",
       "        <td style=\"padding-left: 1em; padding-right: 1em; text-align: center; vertical-align: top\">10</td>\n",
       "    </tr>\n",
       "</table>\n",
       "[10 rows x 4 columns]<br/>\n",
       "</div>"
      ],
      "text/plain": [
       "Columns:\n",
       "\tquery_label\tstr\n",
       "\treference_label\tstr\n",
       "\tdistance\tfloat\n",
       "\trank\tint\n",
       "\n",
       "Rows: 10\n",
       "\n",
       "Data:\n",
       "+--------------+------------------+----------------+------+\n",
       "| query_label  | reference_label  |    distance    | rank |\n",
       "+--------------+------------------+----------------+------+\n",
       "| Paul Krugman |   Paul Krugman   |      0.0       |  1   |\n",
       "| Paul Krugman |   Elise Brezis   | 0.744498017262 |  2   |\n",
       "| Paul Krugman | Maitreesh Ghatak | 0.81564984831  |  3   |\n",
       "| Paul Krugman |  Kai A. Konrad   | 0.823700564406 |  4   |\n",
       "| Paul Krugman |  David Colander  | 0.834625927759 |  5   |\n",
       "| Paul Krugman | Richard Blundell | 0.837934267874 |  6   |\n",
       "| Paul Krugman |  Gordon Rausser  | 0.83941534706  |  7   |\n",
       "| Paul Krugman |  Edward J. Nell  | 0.842178500015 |  8   |\n",
       "| Paul Krugman |  Robin Boadway   | 0.842374260596 |  9   |\n",
       "| Paul Krugman |    Tim Besley    | 0.843088109253 |  10  |\n",
       "+--------------+------------------+----------------+------+\n",
       "[10 rows x 4 columns]"
      ]
     },
     "execution_count": 84,
     "metadata": {},
     "output_type": "execute_result"
    }
   ],
   "source": [
    "model_tf_idf.query(wiki[wiki['name'] == 'Paul Krugman'], label='name', k=10)"
   ]
  },
  {
   "cell_type": "code",
   "execution_count": 85,
   "metadata": {
    "collapsed": false
   },
   "outputs": [
    {
     "data": {
      "text/html": [
       "<pre>Starting pairwise querying.</pre>"
      ],
      "text/plain": [
       "Starting pairwise querying."
      ]
     },
     "metadata": {},
     "output_type": "display_data"
    },
    {
     "data": {
      "text/html": [
       "<pre>+--------------+---------+-------------+--------------+</pre>"
      ],
      "text/plain": [
       "+--------------+---------+-------------+--------------+"
      ]
     },
     "metadata": {},
     "output_type": "display_data"
    },
    {
     "data": {
      "text/html": [
       "<pre>| Query points | # Pairs | % Complete. | Elapsed Time |</pre>"
      ],
      "text/plain": [
       "| Query points | # Pairs | % Complete. | Elapsed Time |"
      ]
     },
     "metadata": {},
     "output_type": "display_data"
    },
    {
     "data": {
      "text/html": [
       "<pre>+--------------+---------+-------------+--------------+</pre>"
      ],
      "text/plain": [
       "+--------------+---------+-------------+--------------+"
      ]
     },
     "metadata": {},
     "output_type": "display_data"
    },
    {
     "data": {
      "text/html": [
       "<pre>| 0            | 1       | 0.00169288  | 24.257ms     |</pre>"
      ],
      "text/plain": [
       "| 0            | 1       | 0.00169288  | 24.257ms     |"
      ]
     },
     "metadata": {},
     "output_type": "display_data"
    },
    {
     "data": {
      "text/html": [
       "<pre>| Done         |         | 100         | 101.539ms    |</pre>"
      ],
      "text/plain": [
       "| Done         |         | 100         | 101.539ms    |"
      ]
     },
     "metadata": {},
     "output_type": "display_data"
    },
    {
     "data": {
      "text/html": [
       "<pre>+--------------+---------+-------------+--------------+</pre>"
      ],
      "text/plain": [
       "+--------------+---------+-------------+--------------+"
      ]
     },
     "metadata": {},
     "output_type": "display_data"
    },
    {
     "data": {
      "text/html": [
       "<div style=\"max-height:1000px;max-width:1500px;overflow:auto;\"><table frame=\"box\" rules=\"cols\">\n",
       "    <tr>\n",
       "        <th style=\"padding-left: 1em; padding-right: 1em; text-align: center\">query_label</th>\n",
       "        <th style=\"padding-left: 1em; padding-right: 1em; text-align: center\">reference_label</th>\n",
       "        <th style=\"padding-left: 1em; padding-right: 1em; text-align: center\">distance</th>\n",
       "        <th style=\"padding-left: 1em; padding-right: 1em; text-align: center\">rank</th>\n",
       "    </tr>\n",
       "    <tr>\n",
       "        <td style=\"padding-left: 1em; padding-right: 1em; text-align: center; vertical-align: top\">Paul Krugman</td>\n",
       "        <td style=\"padding-left: 1em; padding-right: 1em; text-align: center; vertical-align: top\">Paul Krugman</td>\n",
       "        <td style=\"padding-left: 1em; padding-right: 1em; text-align: center; vertical-align: top\">0.0</td>\n",
       "        <td style=\"padding-left: 1em; padding-right: 1em; text-align: center; vertical-align: top\">1</td>\n",
       "    </tr>\n",
       "    <tr>\n",
       "        <td style=\"padding-left: 1em; padding-right: 1em; text-align: center; vertical-align: top\">Paul Krugman</td>\n",
       "        <td style=\"padding-left: 1em; padding-right: 1em; text-align: center; vertical-align: top\">Devin Deweese</td>\n",
       "        <td style=\"padding-left: 1em; padding-right: 1em; text-align: center; vertical-align: top\">0.00289269972132</td>\n",
       "        <td style=\"padding-left: 1em; padding-right: 1em; text-align: center; vertical-align: top\">2</td>\n",
       "    </tr>\n",
       "    <tr>\n",
       "        <td style=\"padding-left: 1em; padding-right: 1em; text-align: center; vertical-align: top\">Paul Krugman</td>\n",
       "        <td style=\"padding-left: 1em; padding-right: 1em; text-align: center; vertical-align: top\">Daniel Kriegman</td>\n",
       "        <td style=\"padding-left: 1em; padding-right: 1em; text-align: center; vertical-align: top\">0.0032579793733</td>\n",
       "        <td style=\"padding-left: 1em; padding-right: 1em; text-align: center; vertical-align: top\">3</td>\n",
       "    </tr>\n",
       "    <tr>\n",
       "        <td style=\"padding-left: 1em; padding-right: 1em; text-align: center; vertical-align: top\">Paul Krugman</td>\n",
       "        <td style=\"padding-left: 1em; padding-right: 1em; text-align: center; vertical-align: top\">Brahma Chellaney</td>\n",
       "        <td style=\"padding-left: 1em; padding-right: 1em; text-align: center; vertical-align: top\">0.00335101452293</td>\n",
       "        <td style=\"padding-left: 1em; padding-right: 1em; text-align: center; vertical-align: top\">4</td>\n",
       "    </tr>\n",
       "    <tr>\n",
       "        <td style=\"padding-left: 1em; padding-right: 1em; text-align: center; vertical-align: top\">Paul Krugman</td>\n",
       "        <td style=\"padding-left: 1em; padding-right: 1em; text-align: center; vertical-align: top\">Isidro A. T. Savillo</td>\n",
       "        <td style=\"padding-left: 1em; padding-right: 1em; text-align: center; vertical-align: top\">0.00462947363156</td>\n",
       "        <td style=\"padding-left: 1em; padding-right: 1em; text-align: center; vertical-align: top\">5</td>\n",
       "    </tr>\n",
       "    <tr>\n",
       "        <td style=\"padding-left: 1em; padding-right: 1em; text-align: center; vertical-align: top\">Paul Krugman</td>\n",
       "        <td style=\"padding-left: 1em; padding-right: 1em; text-align: center; vertical-align: top\">Gerald R. Dickens</td>\n",
       "        <td style=\"padding-left: 1em; padding-right: 1em; text-align: center; vertical-align: top\">0.00481581006256</td>\n",
       "        <td style=\"padding-left: 1em; padding-right: 1em; text-align: center; vertical-align: top\">6</td>\n",
       "    </tr>\n",
       "    <tr>\n",
       "        <td style=\"padding-left: 1em; padding-right: 1em; text-align: center; vertical-align: top\">Paul Krugman</td>\n",
       "        <td style=\"padding-left: 1em; padding-right: 1em; text-align: center; vertical-align: top\">Shahn Majid</td>\n",
       "        <td style=\"padding-left: 1em; padding-right: 1em; text-align: center; vertical-align: top\">0.00488556917983</td>\n",
       "        <td style=\"padding-left: 1em; padding-right: 1em; text-align: center; vertical-align: top\">7</td>\n",
       "    </tr>\n",
       "    <tr>\n",
       "        <td style=\"padding-left: 1em; padding-right: 1em; text-align: center; vertical-align: top\">Paul Krugman</td>\n",
       "        <td style=\"padding-left: 1em; padding-right: 1em; text-align: center; vertical-align: top\">Miguel Mendonca</td>\n",
       "        <td style=\"padding-left: 1em; padding-right: 1em; text-align: center; vertical-align: top\">0.00506066504171</td>\n",
       "        <td style=\"padding-left: 1em; padding-right: 1em; text-align: center; vertical-align: top\">8</td>\n",
       "    </tr>\n",
       "    <tr>\n",
       "        <td style=\"padding-left: 1em; padding-right: 1em; text-align: center; vertical-align: top\">Paul Krugman</td>\n",
       "        <td style=\"padding-left: 1em; padding-right: 1em; text-align: center; vertical-align: top\">Marty Makary</td>\n",
       "        <td style=\"padding-left: 1em; padding-right: 1em; text-align: center; vertical-align: top\">0.00506488636983</td>\n",
       "        <td style=\"padding-left: 1em; padding-right: 1em; text-align: center; vertical-align: top\">9</td>\n",
       "    </tr>\n",
       "    <tr>\n",
       "        <td style=\"padding-left: 1em; padding-right: 1em; text-align: center; vertical-align: top\">Paul Krugman</td>\n",
       "        <td style=\"padding-left: 1em; padding-right: 1em; text-align: center; vertical-align: top\">Devra Davis</td>\n",
       "        <td style=\"padding-left: 1em; padding-right: 1em; text-align: center; vertical-align: top\">0.00564019027343</td>\n",
       "        <td style=\"padding-left: 1em; padding-right: 1em; text-align: center; vertical-align: top\">10</td>\n",
       "    </tr>\n",
       "</table>\n",
       "[10 rows x 4 columns]<br/>\n",
       "</div>"
      ],
      "text/plain": [
       "Columns:\n",
       "\tquery_label\tstr\n",
       "\treference_label\tstr\n",
       "\tdistance\tfloat\n",
       "\trank\tint\n",
       "\n",
       "Rows: 10\n",
       "\n",
       "Data:\n",
       "+--------------+----------------------+------------------+------+\n",
       "| query_label  |   reference_label    |     distance     | rank |\n",
       "+--------------+----------------------+------------------+------+\n",
       "| Paul Krugman |     Paul Krugman     |       0.0        |  1   |\n",
       "| Paul Krugman |    Devin Deweese     | 0.00289269972132 |  2   |\n",
       "| Paul Krugman |   Daniel Kriegman    | 0.0032579793733  |  3   |\n",
       "| Paul Krugman |   Brahma Chellaney   | 0.00335101452293 |  4   |\n",
       "| Paul Krugman | Isidro A. T. Savillo | 0.00462947363156 |  5   |\n",
       "| Paul Krugman |  Gerald R. Dickens   | 0.00481581006256 |  6   |\n",
       "| Paul Krugman |     Shahn Majid      | 0.00488556917983 |  7   |\n",
       "| Paul Krugman |   Miguel Mendonca    | 0.00506066504171 |  8   |\n",
       "| Paul Krugman |     Marty Makary     | 0.00506488636983 |  9   |\n",
       "| Paul Krugman |     Devra Davis      | 0.00564019027343 |  10  |\n",
       "+--------------+----------------------+------------------+------+\n",
       "[10 rows x 4 columns]"
      ]
     },
     "execution_count": 85,
     "metadata": {},
     "output_type": "execute_result"
    }
   ],
   "source": [
    "model_lda_rep.query(wiki[wiki['name'] == 'Paul Krugman'], label='name', k=10)"
   ]
  },
  {
   "cell_type": "markdown",
   "metadata": {},
   "source": [
    "Notice that that there is no overlap between the two sets of top 10 nearest neighbors. This doesn't necessarily mean that one representation is better or worse than the other, but rather that they are picking out different features of the documents. \n",
    "\n",
    "With TF-IDF, documents are distinguished by the frequency of uncommon words. Since similarity is defined based on the specific words used in the document, documents that are \"close\" under TF-IDF tend to be similar in terms of specific details. This is what we see in the example: the top 10 nearest neighbors are all economists from the US, UK, or Canada. \n",
    "\n",
    "Our LDA representation, on the other hand, defines similarity between documents in terms of their topic distributions. This means that documents can be \"close\" if they share similar themes, even though they may not share many of the same keywords. For the article on Paul Krugman, we expect the most important topics to be 'American college and politics' and 'science and research'. As a result, we see that the top 10 nearest neighbors are academics from a wide variety of fields, including literature, anthropology, and religious studies.\n",
    "\n",
    "\n",
    "__Quiz Question:__ Using the TF-IDF representation, compute the 5000 nearest neighbors for American baseball player Alex Rodriguez. For what value of k is Mariano Rivera the k-th nearest neighbor to Alex Rodriguez? (Hint: Once you have a list of the nearest neighbors, you can use `mylist.index(value)` to find the index of the first instance of `value` in `mylist`.)\n",
    "\n",
    "__Quiz Question:__ Using the LDA representation, compute the 5000 nearest neighbors for American baseball player Alex Rodriguez. For what value of k is Mariano Rivera the k-th nearest neighbor to Alex Rodriguez? (Hint: Once you have a list of the nearest neighbors, you can use `mylist.index(value)` to find the index of the first instance of `value` in `mylist`.)"
   ]
  },
  {
   "cell_type": "code",
   "execution_count": 197,
   "metadata": {
    "collapsed": false
   },
   "outputs": [
    {
     "name": "stdout",
     "output_type": "stream",
     "text": [
      "{'query_label': 'Alex Rodriguez', 'distance': 0.8358486085130635, 'reference_label': 'Mariano Rivera', 'rank': 53}\n"
     ]
    },
    {
     "data": {
      "text/html": [
       "<pre>Starting pairwise querying.</pre>"
      ],
      "text/plain": [
       "Starting pairwise querying."
      ]
     },
     "metadata": {},
     "output_type": "display_data"
    },
    {
     "data": {
      "text/html": [
       "<pre>+--------------+---------+-------------+--------------+</pre>"
      ],
      "text/plain": [
       "+--------------+---------+-------------+--------------+"
      ]
     },
     "metadata": {},
     "output_type": "display_data"
    },
    {
     "data": {
      "text/html": [
       "<pre>| Query points | # Pairs | % Complete. | Elapsed Time |</pre>"
      ],
      "text/plain": [
       "| Query points | # Pairs | % Complete. | Elapsed Time |"
      ]
     },
     "metadata": {},
     "output_type": "display_data"
    },
    {
     "data": {
      "text/html": [
       "<pre>+--------------+---------+-------------+--------------+</pre>"
      ],
      "text/plain": [
       "+--------------+---------+-------------+--------------+"
      ]
     },
     "metadata": {},
     "output_type": "display_data"
    },
    {
     "data": {
      "text/html": [
       "<pre>| 0            | 1       | 0.00169288  | 57.43ms      |</pre>"
      ],
      "text/plain": [
       "| 0            | 1       | 0.00169288  | 57.43ms      |"
      ]
     },
     "metadata": {},
     "output_type": "display_data"
    },
    {
     "data": {
      "text/html": [
       "<pre>| 0            | 54500   | 92.2619     | 1.06s        |</pre>"
      ],
      "text/plain": [
       "| 0            | 54500   | 92.2619     | 1.06s        |"
      ]
     },
     "metadata": {},
     "output_type": "display_data"
    },
    {
     "data": {
      "text/html": [
       "<pre>| Done         |         | 100         | 1.23s        |</pre>"
      ],
      "text/plain": [
       "| Done         |         | 100         | 1.23s        |"
      ]
     },
     "metadata": {},
     "output_type": "display_data"
    },
    {
     "data": {
      "text/html": [
       "<pre>+--------------+---------+-------------+--------------+</pre>"
      ],
      "text/plain": [
       "+--------------+---------+-------------+--------------+"
      ]
     },
     "metadata": {},
     "output_type": "display_data"
    },
    {
     "name": "stdout",
     "output_type": "stream",
     "text": [
      "+----------------+------------------------------+----------------+------+\n",
      "|  query_label   |       reference_label        |    distance    | rank |\n",
      "+----------------+------------------------------+----------------+------+\n",
      "| Alex Rodriguez |        Alex Rodriguez        |      0.0       |  1   |\n",
      "| Alex Rodriguez |  John Rodriguez (baseball)   | 0.643662221072 |  2   |\n",
      "| Alex Rodriguez |       Alfonso Soriano        | 0.716766505271 |  3   |\n",
      "| Alex Rodriguez |       Eladio Rodriguez       | 0.727952380269 |  4   |\n",
      "| Alex Rodriguez |       Maggie Rodriguez       | 0.730077138491 |  5   |\n",
      "| Alex Rodriguez |         Derek Jeter          | 0.744062022625 |  6   |\n",
      "| Alex Rodriguez |  Felipe Rodriguez (soccer)   | 0.750710450705 |  7   |\n",
      "| Alex Rodriguez |  Rich Rodriguez (baseball)   | 0.755699161545 |  8   |\n",
      "| Alex Rodriguez |        Josh Hamilton         | 0.758732675823 |  9   |\n",
      "| Alex Rodriguez |    Chris Davis (baseball)    | 0.765630370531 |  10  |\n",
      "| Alex Rodriguez |         Andruw Jones         | 0.780343782056 |  11  |\n",
      "| Alex Rodriguez |     Gary Gray (baseball)     | 0.78598541128  |  12  |\n",
      "| Alex Rodriguez |          Ryan Braun          | 0.787023360036 |  13  |\n",
      "| Alex Rodriguez |    Jairo Avalos Rodriguez    | 0.787479326366 |  14  |\n",
      "| Alex Rodriguez |          Joe Torre           | 0.788217811553 |  15  |\n",
      "| Alex Rodriguez |         Matt Lawton          | 0.790667724788 |  16  |\n",
      "| Alex Rodriguez |         Jorge Posada         | 0.798844017734 |  17  |\n",
      "| Alex Rodriguez |          Hank Aaron          | 0.80237634181  |  18  |\n",
      "| Alex Rodriguez |       Cal Ripken, Jr.        | 0.802843732398 |  19  |\n",
      "| Alex Rodriguez |         Shawn Green          | 0.805364836163 |  20  |\n",
      "| Alex Rodriguez |         Justin Leone         | 0.805739083929 |  21  |\n",
      "| Alex Rodriguez |    Pat Kelly (infielder)     | 0.806001311102 |  22  |\n",
      "| Alex Rodriguez |        Manny Ramirez         | 0.80848707316  |  23  |\n",
      "| Alex Rodriguez |        Chipper Jones         | 0.811088242411 |  24  |\n",
      "| Alex Rodriguez |    Chris Young (pitcher)     | 0.811594839136 |  25  |\n",
      "| Alex Rodriguez |         David Freese         | 0.812640683792 |  26  |\n",
      "| Alex Rodriguez |        Don Mattingly         | 0.81286624268  |  27  |\n",
      "| Alex Rodriguez |        Matt Holliday         | 0.813068399426 |  28  |\n",
      "| Alex Rodriguez |    Gary Ward (outfielder)    | 0.814405748899 |  29  |\n",
      "| Alex Rodriguez |         Aubrey Huff          | 0.819237462693 |  30  |\n",
      "| Alex Rodriguez |         Pat Burrell          | 0.820858656883 |  31  |\n",
      "| Alex Rodriguez |          Ike Davis           | 0.821097420757 |  32  |\n",
      "| Alex Rodriguez |        Olga Rodriguez        | 0.821181156502 |  33  |\n",
      "| Alex Rodriguez |  Kevin Nicholson (baseball)  | 0.821654433982 |  34  |\n",
      "| Alex Rodriguez |        Floyd Robinson        | 0.823854162783 |  35  |\n",
      "| Alex Rodriguez |       Rey S%C3%A1nchez       | 0.823879815074 |  36  |\n",
      "| Alex Rodriguez |         Phil Hughes          | 0.824504672991 |  37  |\n",
      "| Alex Rodriguez | Robert P%C3%A9rez (baseball) | 0.825392138245 |  38  |\n",
      "| Alex Rodriguez |        Todd Williams         | 0.826660681426 |  39  |\n",
      "| Alex Rodriguez |        Prince Fielder        | 0.827112354723 |  40  |\n",
      "| Alex Rodriguez |         Wes Bankston         | 0.828557340759 |  41  |\n",
      "| Alex Rodriguez |     Tino Rodr%C3%ADguez      | 0.829237292361 |  42  |\n",
      "| Alex Rodriguez |   Mauricio Rodriguez Anza    | 0.829483888969 |  43  |\n",
      "| Alex Rodriguez |         Andre Dawson         | 0.830190833181 |  44  |\n",
      "| Alex Rodriguez |      Michelle Rodriguez      | 0.831475867579 |  45  |\n",
      "| Alex Rodriguez |        Dan Rohrmeier         | 0.832032111857 |  46  |\n",
      "| Alex Rodriguez |        Reggie Jackson        | 0.832365580814 |  47  |\n",
      "| Alex Rodriguez |  Milton Bradley (baseball)   | 0.833022796726 |  48  |\n",
      "| Alex Rodriguez |   Jim Anderson (baseball)    | 0.83377169072  |  49  |\n",
      "| Alex Rodriguez |   Chris Arnold (baseball)    | 0.834143293066 |  50  |\n",
      "| Alex Rodriguez |    Alex George (baseball)    | 0.835107295361 |  51  |\n",
      "| Alex Rodriguez |         Barry Larkin         | 0.835768292218 |  52  |\n",
      "| Alex Rodriguez |        Mariano Rivera        | 0.835848608513 |  53  |\n",
      "+----------------+------------------------------+----------------+------+\n",
      "[53 rows x 4 columns]\n",
      "\n"
     ]
    }
   ],
   "source": [
    "tf_idf_5000nn = model_tf_idf.query(wiki[wiki['name'] == 'Alex Rodriguez'], label='name', k=5000)\n",
    "lda_5000nn = model_lda_rep.query(wiki[wiki['name'] == 'Alex Rodriguez'], label='name', k=5000)\n",
    "\n",
    "print tf_idf_5000nn[ list(tf_idf_5000nn['reference_label']).index('Mariano Rivera') ]\n",
    "\n",
    "#DAF checkpoint\n",
    "tf_idf_nn = model_tf_idf.query(wiki[wiki['name'] == 'Alex Rodriguez'], label='name', k=53)\n",
    "tf_idf_nn.print_rows(100)"
   ]
  },
  {
   "cell_type": "code",
   "execution_count": 198,
   "metadata": {
    "collapsed": false
   },
   "outputs": [
    {
     "name": "stdout",
     "output_type": "stream",
     "text": [
      "{'query_label': 'Alex Rodriguez', 'distance': 0.005249753688516767, 'reference_label': 'Mariano Rivera', 'rank': 14}\n"
     ]
    },
    {
     "data": {
      "text/html": [
       "<pre>Starting pairwise querying.</pre>"
      ],
      "text/plain": [
       "Starting pairwise querying."
      ]
     },
     "metadata": {},
     "output_type": "display_data"
    },
    {
     "data": {
      "text/html": [
       "<pre>+--------------+---------+-------------+--------------+</pre>"
      ],
      "text/plain": [
       "+--------------+---------+-------------+--------------+"
      ]
     },
     "metadata": {},
     "output_type": "display_data"
    },
    {
     "data": {
      "text/html": [
       "<pre>| Query points | # Pairs | % Complete. | Elapsed Time |</pre>"
      ],
      "text/plain": [
       "| Query points | # Pairs | % Complete. | Elapsed Time |"
      ]
     },
     "metadata": {},
     "output_type": "display_data"
    },
    {
     "data": {
      "text/html": [
       "<pre>+--------------+---------+-------------+--------------+</pre>"
      ],
      "text/plain": [
       "+--------------+---------+-------------+--------------+"
      ]
     },
     "metadata": {},
     "output_type": "display_data"
    },
    {
     "data": {
      "text/html": [
       "<pre>| 0            | 1       | 0.00169288  | 25.538ms     |</pre>"
      ],
      "text/plain": [
       "| 0            | 1       | 0.00169288  | 25.538ms     |"
      ]
     },
     "metadata": {},
     "output_type": "display_data"
    },
    {
     "data": {
      "text/html": [
       "<pre>| Done         |         | 100         | 86.942ms     |</pre>"
      ],
      "text/plain": [
       "| Done         |         | 100         | 86.942ms     |"
      ]
     },
     "metadata": {},
     "output_type": "display_data"
    },
    {
     "data": {
      "text/html": [
       "<pre>+--------------+---------+-------------+--------------+</pre>"
      ],
      "text/plain": [
       "+--------------+---------+-------------+--------------+"
      ]
     },
     "metadata": {},
     "output_type": "display_data"
    },
    {
     "name": "stdout",
     "output_type": "stream",
     "text": [
      "+----------------+--------------------------+------------------+------+\n",
      "|  query_label   |     reference_label      |     distance     | rank |\n",
      "+----------------+--------------------------+------------------+------+\n",
      "| Alex Rodriguez |      Alex Rodriguez      |       0.0        |  1   |\n",
      "| Alex Rodriguez |       Don Narcisse       | 0.00210374902873 |  2   |\n",
      "| Alex Rodriguez |        A. J. Gass        | 0.00238590810608 |  3   |\n",
      "| Alex Rodriguez | Anthony Young (baseball) | 0.00345465119405 |  4   |\n",
      "| Alex Rodriguez |   Pedro Mart%C3%ADnez    | 0.0041166029423  |  5   |\n",
      "| Alex Rodriguez |      Mark Eichhorn       | 0.00437596862617 |  6   |\n",
      "| Alex Rodriguez |   %C3%89ric Gagn%C3%A9   | 0.0045364500972  |  7   |\n",
      "| Alex Rodriguez |      Brent Gretzky       | 0.00454773892585 |  8   |\n",
      "| Alex Rodriguez |    Dustin Cherniawski    | 0.00481506366009 |  9   |\n",
      "| Alex Rodriguez |        Bobby Orr         | 0.00483458766702 |  10  |\n",
      "| Alex Rodriguez |      Bruce Mulherin      | 0.00490653827184 |  11  |\n",
      "| Alex Rodriguez |       Marc Laforge       | 0.0049327341547  |  12  |\n",
      "| Alex Rodriguez |      Paul Cavallini      | 0.00517098600657 |  13  |\n",
      "| Alex Rodriguez |      Mariano Rivera      | 0.00524975368852 |  14  |\n",
      "+----------------+--------------------------+------------------+------+\n",
      "[14 rows x 4 columns]\n",
      "\n"
     ]
    }
   ],
   "source": [
    "print lda_5000nn[ list(lda_5000nn['reference_label']).index('Mariano Rivera')]\n",
    "\n",
    "#DAF checkpoint\n",
    "lda_nn = model_lda_rep.query(wiki[wiki['name'] == 'Alex Rodriguez'], label='name', k=14)\n",
    "lda_nn.print_rows(100)"
   ]
  },
  {
   "cell_type": "markdown",
   "metadata": {},
   "source": [
    "# Understanding the role of LDA model hyperparameters\n",
    "\n",
    "Finally, we'll take a look at the effect of the LDA model hyperparameters alpha and gamma on the characteristics of our fitted model. Recall that alpha is a parameter of the prior distribution over topic weights in each document, while gamma is a parameter of the prior distribution over word weights in each topic. \n",
    "\n",
    "In the video lectures, we saw that alpha and gamma can be thought of as smoothing parameters when we compute how much each document \"likes\" a topic (in the case of alpha) or how much each topic \"likes\" a word (in the case of gamma). In both cases, these parameters serve to reduce the differences across topics or words in terms of these calculated preferences; alpha makes the document preferences \"smoother\" over topics, and gamma makes the topic preferences \"smoother\" over words.\n",
    "\n",
    "Our goal in this section will be to understand how changing these parameter values affects the characteristics of the resulting topic model.\n",
    "\n",
    "__Quiz Question:__ What was the value of alpha used to fit our original topic model? "
   ]
  },
  {
   "cell_type": "code",
   "execution_count": 106,
   "metadata": {
    "collapsed": false
   },
   "outputs": [
    {
     "data": {
      "text/plain": [
       "Class                          : TopicModel\n",
       "\n",
       "Schema\n",
       "------\n",
       "Vocabulary Size                : 547462\n",
       "\n",
       "Settings\n",
       "--------\n",
       "Number of Topics               : 10\n",
       "alpha                          : 5.0\n",
       "beta                           : 0.1\n",
       "Iterations                     : 200\n",
       "Training time                  : 363.9111\n",
       "Verbose                        : False\n",
       "\n",
       "Accessible fields             : \n",
       "m['topics']                   : An SFrame containing the topics.\n",
       "m['vocabulary']               : An SArray containing the words in the vocabulary.\n",
       "Useful methods                : \n",
       "m.get_topics()                : Get the most probable words per topic.\n",
       "m.predict(new_docs)           : Make predictions for new documents."
      ]
     },
     "execution_count": 106,
     "metadata": {},
     "output_type": "execute_result"
    }
   ],
   "source": [
    "topic_model\n",
    "#alpha                          : 5.0"
   ]
  },
  {
   "cell_type": "markdown",
   "metadata": {},
   "source": [
    "__Quiz Question:__ What was the value of gamma used to fit our original topic model? Remember that GraphLab Create uses \"beta\" instead of \"gamma\" to refer to the hyperparameter that influences topic distributions over words."
   ]
  },
  {
   "cell_type": "code",
   "execution_count": 108,
   "metadata": {
    "collapsed": true
   },
   "outputs": [],
   "source": [
    "#beta                           : 0.1"
   ]
  },
  {
   "cell_type": "markdown",
   "metadata": {},
   "source": [
    "We'll start by loading some topic models that have been trained using different settings of alpha and gamma. Specifically, we will start by comparing the following two models to our original topic model:\n",
    " - tpm_low_alpha, a model trained with alpha = 1 and default gamma\n",
    " - tpm_high_alpha, a model trained with alpha = 50 and default gamma"
   ]
  },
  {
   "cell_type": "code",
   "execution_count": 109,
   "metadata": {
    "collapsed": false
   },
   "outputs": [
    {
     "name": "stdout",
     "output_type": "stream",
     "text": [
      "Class                          : TopicModel\n",
      "\n",
      "Schema\n",
      "------\n",
      "Vocabulary Size                : 547462\n",
      "\n",
      "Settings\n",
      "--------\n",
      "Number of Topics               : 10\n",
      "alpha                          : 1.0\n",
      "beta                           : 0.1\n",
      "Iterations                     : 200\n",
      "Training time                  : 288.6123\n",
      "Verbose                        : False\n",
      "\n",
      "Accessible fields             : \n",
      "m['topics']                   : An SFrame containing the topics.\n",
      "m['vocabulary']               : An SArray containing the words in the vocabulary.\n",
      "Useful methods                : \n",
      "m.get_topics()                : Get the most probable words per topic.\n",
      "m.predict(new_docs)           : Make predictions for new documents. \n",
      "\n",
      "\n",
      "Class                          : TopicModel\n",
      "\n",
      "Schema\n",
      "------\n",
      "Vocabulary Size                : 547462\n",
      "\n",
      "Settings\n",
      "--------\n",
      "Number of Topics               : 10\n",
      "alpha                          : 10.0\n",
      "beta                           : 0.1\n",
      "Iterations                     : 200\n",
      "Training time                  : 257.445\n",
      "Verbose                        : False\n",
      "\n",
      "Accessible fields             : \n",
      "m['topics']                   : An SFrame containing the topics.\n",
      "m['vocabulary']               : An SArray containing the words in the vocabulary.\n",
      "Useful methods                : \n",
      "m.get_topics()                : Get the most probable words per topic.\n",
      "m.predict(new_docs)           : Make predictions for new documents. \n",
      "\n",
      "\n"
     ]
    }
   ],
   "source": [
    "tpm_low_alpha = gl.load_model('lda_models/lda_low_alpha')\n",
    "tpm_high_alpha = gl.load_model('lda_models/lda_high_alpha')\n",
    "\n",
    "#DAF understanding\n",
    "print tpm_low_alpha, \"\\n\\n\"\n",
    "print tpm_high_alpha, \"\\n\\n\""
   ]
  },
  {
   "cell_type": "markdown",
   "metadata": {},
   "source": [
    "### Changing the hyperparameter alpha\n",
    "\n",
    "Since alpha is responsible for smoothing document preferences over topics, the impact of changing its value should be visible when we plot the distribution of topic weights for the same document under models fit with different alpha values. In the code below, we plot the (sorted) topic weights for the Wikipedia article on Barack Obama under models fit with high, original, and low settings of alpha."
   ]
  },
  {
   "cell_type": "code",
   "execution_count": 112,
   "metadata": {
    "collapsed": false
   },
   "outputs": [
    {
     "data": {
      "image/png": "[encoded data removed]",
      "text/plain": [
       "<matplotlib.figure.Figure at 0x7f1f8956af50>"
      ]
     },
     "metadata": {},
     "output_type": "display_data"
    }
   ],
   "source": [
    "a = np.sort(tpm_low_alpha.predict(obama,output_type='probability')[0])[::-1]\n",
    "b = np.sort(topic_model.predict(obama,output_type='probability')[0])[::-1]\n",
    "c = np.sort(tpm_high_alpha.predict(obama,output_type='probability')[0])[::-1]\n",
    "ind = np.arange(len(a))\n",
    "width = 0.3\n",
    "\n",
    "def param_bar_plot(a,b,c,ind,width,ylim,param,xlab,ylab):\n",
    "    fig = plt.figure()\n",
    "    ax = fig.add_subplot(111)\n",
    "\n",
    "    b1 = ax.bar(ind, a, width, color='lightskyblue')\n",
    "    b2 = ax.bar(ind+width, b, width, color='lightcoral')\n",
    "    b3 = ax.bar(ind+(2*width), c, width, color='gold')\n",
    "\n",
    "    ax.set_xticks(ind+width)\n",
    "    ax.set_xticklabels(range(10))\n",
    "    ax.set_ylabel(ylab)\n",
    "    ax.set_xlabel(xlab)\n",
    "    ax.set_ylim(0,ylim)\n",
    "    ax.legend(handles = [b1,b2,b3],labels=['low '+param,'original model','high '+param])\n",
    "\n",
    "    plt.tight_layout()\n",
    "\n",
    "param_bar_plot(a,b,c,ind,width,ylim=1.0,param='alpha',\n",
    "               xlab='Topics (sorted by weight of top 100 words)',ylab='Topic Probability for Obama Article')"
   ]
  },
  {
   "cell_type": "code",
   "execution_count": 111,
   "metadata": {
    "collapsed": false
   },
   "outputs": [
    {
     "name": "stdout",
     "output_type": "stream",
     "text": [
      "\n",
      "[ 0.72891566  0.09337349  0.07228916  0.03915663  0.03012048  0.01506024\n",
      "  0.00903614  0.0060241   0.00301205  0.00301205] \n",
      "[ 0.60483871  0.10752688  0.05913978  0.05107527  0.0483871   0.04032258\n",
      "  0.03494624  0.02150538  0.0188172   0.01344086] \n",
      "[ 0.46682464  0.11611374  0.0971564   0.06398104  0.05450237  0.0450237\n",
      "  0.0450237   0.04028436  0.04028436  0.03080569] \n",
      "[0 1 2 3 4 5 6 7 8 9]\n"
     ]
    }
   ],
   "source": [
    "#DAF understanding\n",
    "print \"\\n\", a, \"\\n\", b, \"\\n\", c, \"\\n\", ind"
   ]
  },
  {
   "cell_type": "markdown",
   "metadata": {},
   "source": [
    "Here we can clearly see the smoothing enforced by the alpha parameter - notice that when alpha is low most of the weight in the topic distribution for this article goes to a single topic, but when alpha is high the weight is much more evenly distributed across the topics.\n",
    "\n",
    "__Quiz Question:__ How many topics are assigned a weight greater than 0.3 or less than 0.05 for the article on Paul Krugman in the **low alpha** model?  Use the average results from 100 topic predictions."
   ]
  },
  {
   "cell_type": "code",
   "execution_count": 136,
   "metadata": {
    "collapsed": false
   },
   "outputs": [
    {
     "name": "stdout",
     "output_type": "stream",
     "text": [
      "[0.6273456790123457, 0.21925925925925935, 0.061049382716049386, 0.0160493827160494, 0.015555555555555569, 0.01512345679012347, 0.013086419753086435, 0.012037037037037058, 0.010308641975308652, 0.0101851851851852]\n",
      "[0.6273456790123457, 0.0160493827160494, 0.015555555555555569, 0.01512345679012347, 0.013086419753086435, 0.012037037037037058, 0.010308641975308652, 0.0101851851851852, ... ]\n",
      "8\n"
     ]
    }
   ],
   "source": [
    "krugman = gl.SArray([wiki_docs[int(np.where(wiki['name']=='Paul Krugman')[0])]])\n",
    "p_low_alpha = average_predictions(tpm_low_alpha, krugman, 100)['average predictions']\n",
    "\n",
    "print p_low_alpha\n",
    "print p_low_alpha[(p_low_alpha>0.3) | (p_low_alpha<0.05)]\n",
    "#A: 8 -1 con una p altisima + 7 con p extremadamente pequeña-"
   ]
  },
  {
   "cell_type": "markdown",
   "metadata": {},
   "source": [
    "__Quiz Question:__ How many topics are assigned a weight greater than 0.3 or less than 0.05 for the article on Paul Krugman in the **high alpha** model? Use the average results from 100 topic predictions."
   ]
  },
  {
   "cell_type": "code",
   "execution_count": 138,
   "metadata": {
    "collapsed": false
   },
   "outputs": [
    {
     "name": "stdout",
     "output_type": "stream",
     "text": [
      "[0.32384920634920644, 0.18742063492063477, 0.09293650793650786, 0.06003968253968247, 0.060039682539682435, 0.05984126984126974, 0.05892857142857134, 0.05809523809523798, 0.05067460317460308, 0.0481746031746031]\n",
      "[0.32384920634920644, 0.0481746031746031, ... ]\n",
      "2\n"
     ]
    }
   ],
   "source": [
    "p_high_alpha = average_predictions(tpm_high_alpha, krugman, 100)['average predictions']\n",
    "\n",
    "print p_high_alpha\n",
    "print p_high_alpha[(p_high_alpha>0.3) | (p_high_alpha<0.05)]\n",
    "print len(p_high_alpha[(p_high_alpha>0.3) | (p_high_alpha<0.05)])\n",
    "\n",
    "#A: solo 2"
   ]
  },
  {
   "cell_type": "markdown",
   "metadata": {},
   "source": [
    "### Changing the hyperparameter gamma\n",
    "\n",
    "Just as we were able to see the effect of alpha by plotting topic weights for a document, we expect to be able to visualize the impact of changing gamma by plotting word weights for each topic. In this case, however, there are far too many words in our vocabulary to do this effectively. Instead, we'll plot the total weight of the top 100 words and bottom 1000 words for each topic. Below, we plot the (sorted) total weights of the top 100 words and bottom 1000 from each topic in the high, original, and low gamma models."
   ]
  },
  {
   "cell_type": "markdown",
   "metadata": {},
   "source": [
    "Now we will consider the following two models:\n",
    " - tpm_low_gamma, a model trained with gamma = 0.02 and default alpha\n",
    " - tpm_high_gamma, a model trained with gamma = 0.5 and default alpha"
   ]
  },
  {
   "cell_type": "code",
   "execution_count": 139,
   "metadata": {
    "collapsed": true
   },
   "outputs": [],
   "source": [
    "del tpm_low_alpha\n",
    "del tpm_high_alpha\n",
    "tpm_low_gamma = gl.load_model('lda_models/lda_low_gamma')\n",
    "tpm_high_gamma = gl.load_model('lda_models/lda_high_gamma')"
   ]
  },
  {
   "cell_type": "code",
   "execution_count": 140,
   "metadata": {
    "collapsed": false
   },
   "outputs": [
    {
     "name": "stdout",
     "output_type": "stream",
     "text": [
      "Class                          : TopicModel\n",
      "\n",
      "Schema\n",
      "------\n",
      "Vocabulary Size                : 547462\n",
      "\n",
      "Settings\n",
      "--------\n",
      "Number of Topics               : 10\n",
      "alpha                          : 5.0\n",
      "beta                           : 0.02\n",
      "Iterations                     : 200\n",
      "Training time                  : 224.977\n",
      "Verbose                        : False\n",
      "\n",
      "Accessible fields             : \n",
      "m['topics']                   : An SFrame containing the topics.\n",
      "m['vocabulary']               : An SArray containing the words in the vocabulary.\n",
      "Useful methods                : \n",
      "m.get_topics()                : Get the most probable words per topic.\n",
      "m.predict(new_docs)           : Make predictions for new documents.\n",
      "Class                          : TopicModel\n",
      "\n",
      "Schema\n",
      "------\n",
      "Vocabulary Size                : 547462\n",
      "\n",
      "Settings\n",
      "--------\n",
      "Number of Topics               : 10\n",
      "alpha                          : 0.5\n",
      "beta                           : 0.1\n",
      "Iterations                     : 200\n",
      "Training time                  : 257.7348\n",
      "Verbose                        : False\n",
      "\n",
      "Accessible fields             : \n",
      "m['topics']                   : An SFrame containing the topics.\n",
      "m['vocabulary']               : An SArray containing the words in the vocabulary.\n",
      "Useful methods                : \n",
      "m.get_topics()                : Get the most probable words per topic.\n",
      "m.predict(new_docs)           : Make predictions for new documents.\n"
     ]
    }
   ],
   "source": [
    "# DAF understanding\n",
    "print tpm_low_gamma\n",
    "print tpm_high_gamma"
   ]
  },
  {
   "cell_type": "code",
   "execution_count": 144,
   "metadata": {
    "collapsed": false
   },
   "outputs": [
    {
     "data": {
      "image/png": "[encoded data removed]",
      "text/plain": [
       "<matplotlib.figure.Figure at 0x7f1f798bdbd0>"
      ]
     },
     "metadata": {},
     "output_type": "display_data"
    },
    {
     "data": {
      "image/png": "[encoded data removed]",
      "text/plain": [
       "<matplotlib.figure.Figure at 0x7f1f89877490>"
      ]
     },
     "metadata": {},
     "output_type": "display_data"
    }
   ],
   "source": [
    "a_top = np.sort([sum(tpm_low_gamma.get_topics(topic_ids=[i], num_words=100)['score']) for i in range(10)])[::-1]\n",
    "b_top = np.sort([sum(topic_model.get_topics(topic_ids=[i], num_words=100)['score']) for i in range(10)])[::-1]\n",
    "c_top = np.sort([sum(tpm_high_gamma.get_topics(topic_ids=[i], num_words=100)['score']) for i in range(10)])[::-1]\n",
    "\n",
    "a_bot = np.sort([sum(tpm_low_gamma.get_topics(topic_ids=[i], num_words=547462)[-1000:]['score']) for i in range(10)])[::-1]\n",
    "b_bot = np.sort([sum(topic_model.get_topics(topic_ids=[i], num_words=547462)[-1000:]['score']) for i in range(10)])[::-1]\n",
    "c_bot = np.sort([sum(tpm_high_gamma.get_topics(topic_ids=[i], num_words=547462)[-1000:]['score']) for i in range(10)])[::-1]\n",
    "\n",
    "ind = np.arange(len(a))\n",
    "width = 0.3\n",
    "    \n",
    "param_bar_plot(a_top, b_top, c_top, ind, width, ylim=0.6, param='gamma',\n",
    "               xlab='Topics (sorted by weight of top 100 words)', \n",
    "               ylab='Total Probability of Top 100 Words')\n",
    "\n",
    "param_bar_plot(a_bot, b_bot, c_bot, ind, width, ylim=0.0002, param='gamma',\n",
    "               xlab='Topics (sorted by weight of bottom 1000 words)',\n",
    "               ylab='Total Probability of Bottom 1000 Words')"
   ]
  },
  {
   "cell_type": "code",
   "execution_count": 143,
   "metadata": {
    "collapsed": false
   },
   "outputs": [
    {
     "name": "stdout",
     "output_type": "stream",
     "text": [
      "[ 0.43711624  0.42324155  0.42015463  0.40663683  0.4006247   0.38482939\n",
      "  0.33106907  0.31397317  0.29481334  0.25552301] \n",
      "[  2.13826162e-05   2.07056219e-05   1.94224871e-05   1.88730480e-05\n",
      "   1.88035271e-05   1.86018784e-05   1.85210868e-05   1.79701585e-05\n",
      "   1.70027510e-05   1.66846828e-05]\n"
     ]
    }
   ],
   "source": [
    "#DAF understanding\n",
    "print a_top, \"\\n\", a_bot"
   ]
  },
  {
   "cell_type": "markdown",
   "metadata": {
    "collapsed": true
   },
   "source": [
    "From these two plots we can see that the low gamma model results in higher weight placed on the top words and lower weight placed on the bottom words for each topic, while the high gamma model places relatively less weight on the top words and more weight on the bottom words. Thus increasing gamma results in topics that have a smoother distribution of weight across all the words in the vocabulary."
   ]
  },
  {
   "cell_type": "markdown",
   "metadata": {},
   "source": [
    "__Quiz Question:__ For each topic of the **low gamma model**, compute the number of words required to make a list with total probability 0.5. What is the average number of words required across all topics? (HINT: use the get\\_topics() function from GraphLab Create with the cdf\\_cutoff argument)."
   ]
  },
  {
   "cell_type": "code",
   "execution_count": 168,
   "metadata": {
    "collapsed": false
   },
   "outputs": [
    {
     "name": "stdout",
     "output_type": "stream",
     "text": [
      "[184 163 329 139 189 153 295 482 164 426]\n",
      "252.4\n",
      "252.4\n"
     ]
    }
   ],
   "source": [
    "res = np.asarray([len(tpm_low_gamma.get_topics(topic_ids=[i], num_words=547462, cdf_cutoff=0.5)['score']) for i in range(10)])\n",
    "print res\n",
    "print np.mean(res)\n",
    "print np.average(res)"
   ]
  },
  {
   "cell_type": "markdown",
   "metadata": {},
   "source": [
    "__Quiz Question:__ For each topic of the **high gamma model**, compute the number of words required to make a list with total probability 0.5. What is the average number of words required across all topics? (HINT: use the get\\_topics() function from GraphLab Create with the cdf\\_cutoff argument)."
   ]
  },
  {
   "cell_type": "code",
   "execution_count": 174,
   "metadata": {
    "collapsed": false
   },
   "outputs": [
    {
     "name": "stdout",
     "output_type": "stream",
     "text": [
      "[ 318  519  701  545  379  384  572  467 1303  574]\n",
      "576.2\n",
      "576.2\n"
     ]
    }
   ],
   "source": [
    "res = np.asarray([len(tpm_high_gamma.get_topics(topic_ids=[i], num_words=547462, cdf_cutoff=0.5)['score']) for i in range(10)])\n",
    "print res\n",
    "print np.mean(res)\n",
    "print np.average(res)"
   ]
  },
  {
   "cell_type": "markdown",
   "metadata": {},
   "source": [
    "We have now seen how the hyperparameters alpha and gamma influence the characteristics of our LDA topic model, but we haven't said anything about what settings of alpha or gamma are best. We know that these parameters are responsible for controlling the smoothness of the topic distributions for documents and word distributions for topics, but there's no simple conversion between smoothness of these distributions and quality of the topic model. In reality, there is no universally \"best\" choice for these parameters. Instead, finding a good topic model requires that we be able to both explore the output (as we did by looking at the topics and checking some topic predictions for documents) and understand the impact of hyperparameter settings (as we have in this section)."
   ]
  }
 ],
 "metadata": {
  "kernelspec": {
   "display_name": "Python 2",
   "language": "python",
   "name": "python2"
  },
  "language_info": {
   "codemirror_mode": {
    "name": "ipython",
    "version": 2
   },
   "file_extension": ".py",
   "mimetype": "text/x-python",
   "name": "python",
   "nbconvert_exporter": "python",
   "pygments_lexer": "ipython2",
   "version": "2.7.13"
  }
 },
 "nbformat": 4,
 "nbformat_minor": 0
}
